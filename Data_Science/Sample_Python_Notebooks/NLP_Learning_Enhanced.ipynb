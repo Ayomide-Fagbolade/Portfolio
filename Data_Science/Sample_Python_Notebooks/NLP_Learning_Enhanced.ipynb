{
  "cells": [
    {
      "cell_type": "code",
      "execution_count": null,
      "metadata": {
        "colab": {
          "base_uri": "https://localhost:8080/"
        },
        "id": "yGx6gOygBjzB",
        "outputId": "c059a63f-fedc-40d5-f136-2a2ed7f331e3"
      },
      "outputs": [
        {
          "name": "stdout",
          "output_type": "stream",
          "text": "Requirement already satisfied: nltk in /usr/local/lib/python3.11/dist-packages (3.9.1)\nRequirement already satisfied: click in /usr/local/lib/python3.11/dist-packages (from nltk) (8.1.8)\nRequirement already satisfied: joblib in /usr/local/lib/python3.11/dist-packages (from nltk) (1.4.2)\nRequirement already satisfied: regex>=2021.8.3 in /usr/local/lib/python3.11/dist-packages (from nltk) (2024.11.6)\nRequirement already satisfied: tqdm in /usr/local/lib/python3.11/dist-packages (from nltk) (4.67.1)\n"
        }
      ],
      "source": [
        "!pip install nltk\n"
      ]
    },
    {
      "cell_type": "code",
      "execution_count": null,
      "metadata": {
        "colab": {
          "base_uri": "https://localhost:8080/"
        },
        "id": "zR7PeSliCHPJ",
        "outputId": "7fd70eb7-7010-47b5-bf0a-a7b5f13b3cee"
      },
      "outputs": [
        {
          "name": "stdout",
          "output_type": "stream",
          "text": " Hello,\nMy name is Ayomide Fagbolade and this is my first time working with NLP's.\n i feel super excited! join me in this journey\n"
        }
      ],
      "source": [
        "corpus=\"\"\" Hello,\n",
        "My name is Ayomide Fagbolade and this is my first time working with NLP's.\n",
        " i feel super excited! join me in this journey\"\"\"\n",
        "\n",
        "print(corpus)"
      ]
    },
    {
      "cell_type": "code",
      "execution_count": null,
      "metadata": {
        "colab": {
          "base_uri": "https://localhost:8080/"
        },
        "id": "G83ezVUxDfTu",
        "outputId": "40ad1030-7ea3-456a-8935-321c1c3cbab5"
      },
      "outputs": [
        {
          "name": "stderr",
          "output_type": "stream",
          "text": "[nltk_data] Downloading package punkt_tab to /root/nltk_data...\n[nltk_data]   Package punkt_tab is already up-to-date!\n"
        }
      ],
      "source": [
        "import nltk\n",
        "\n",
        "# Download the 'punkt_tab' resource\n",
        "nltk.download('punkt_tab')\n",
        "\n",
        "#import tokenizer tool\n",
        "from nltk.tokenize import sent_tokenize, word_tokenize, wordpunct_tokenize, TreebankWordTokenizer\n",
        "#tokenize the paragraph\n",
        "document=sent_tokenize(corpus)"
      ]
    },
    {
      "cell_type": "markdown",
      "metadata": {
        "id": "PsIDZeF6IZE6"
      },
      "source": [
        "#Tokkenizing\n",
        "breaking a large chunk of text into smaller chunks"
      ]
    },
    {
      "cell_type": "code",
      "execution_count": null,
      "metadata": {
        "colab": {
          "base_uri": "https://localhost:8080/"
        },
        "id": "YEh_w-v2Ezb4",
        "outputId": "4490999a-ed0f-4b02-af3e-5446f0b37728"
      },
      "outputs": [
        {
          "name": "stdout",
          "output_type": "stream",
          "text": "[\" Hello,\\nMy name is Ayomide Fagbolade and this is my first time working with NLP's.\", 'i feel super excited!', 'join me in this journey']\n Hello,\nMy name is Ayomide Fagbolade and this is my first time working with NLP's.\ni feel super excited!\njoin me in this journey\n"
        }
      ],
      "source": [
        "print(document)\n",
        "for sentence in document:\n",
        "  print(sentence)"
      ]
    },
    {
      "cell_type": "code",
      "execution_count": null,
      "metadata": {
        "colab": {
          "base_uri": "https://localhost:8080/"
        },
        "id": "lU39ABfqF-2h",
        "outputId": "38252db5-9c11-40d1-8f06-3dc60c5e0ddf"
      },
      "outputs": [
        {
          "data": {
            "text/plain": "['Hello',\n ',',\n 'My',\n 'name',\n 'is',\n 'Ayomide',\n 'Fagbolade',\n 'and',\n 'this',\n 'is',\n 'my',\n 'first',\n 'time',\n 'working',\n 'with',\n 'NLP',\n \"'s\",\n '.',\n 'i',\n 'feel',\n 'super',\n 'excited',\n '!',\n 'join',\n 'me',\n 'in',\n 'this',\n 'journey']"
          },
          "execution_count": 5,
          "metadata": {},
          "output_type": "execute_result"
        }
      ],
      "source": [
        "word_tokenize(corpus)"
      ]
    },
    {
      "cell_type": "code",
      "execution_count": null,
      "metadata": {
        "colab": {
          "base_uri": "https://localhost:8080/"
        },
        "id": "5ZSFlSAsGArr",
        "outputId": "4113d194-7288-4bb8-821f-c96de7e11a29"
      },
      "outputs": [
        {
          "data": {
            "text/plain": "['Hello',\n ',',\n 'My',\n 'name',\n 'is',\n 'Ayomide',\n 'Fagbolade',\n 'and',\n 'this',\n 'is',\n 'my',\n 'first',\n 'time',\n 'working',\n 'with',\n 'NLP',\n \"'\",\n 's',\n '.',\n 'i',\n 'feel',\n 'super',\n 'excited',\n '!',\n 'join',\n 'me',\n 'in',\n 'this',\n 'journey']"
          },
          "execution_count": 6,
          "metadata": {},
          "output_type": "execute_result"
        }
      ],
      "source": [
        "wordpunct_tokenize(corpus)"
      ]
    },
    {
      "cell_type": "code",
      "execution_count": null,
      "metadata": {
        "colab": {
          "base_uri": "https://localhost:8080/"
        },
        "id": "D9kFMskRGMQ1",
        "outputId": "9a3ae6fc-1319-49a3-81df-63b4ceecc815"
      },
      "outputs": [
        {
          "data": {
            "text/plain": "False"
          },
          "execution_count": 7,
          "metadata": {},
          "output_type": "execute_result"
        }
      ],
      "source": [
        "wordpunct_tokenize(corpus)  == word_tokenize(corpus)"
      ]
    },
    {
      "cell_type": "code",
      "execution_count": null,
      "metadata": {
        "colab": {
          "base_uri": "https://localhost:8080/"
        },
        "id": "mKcJb0yEGXJ4",
        "outputId": "1e741694-56c7-4e67-8335-a017ebea7b93"
      },
      "outputs": [
        {
          "data": {
            "text/plain": "{\"'\", 's'}"
          },
          "execution_count": 8,
          "metadata": {},
          "output_type": "execute_result"
        }
      ],
      "source": [
        "set(wordpunct_tokenize(corpus) ) - set(word_tokenize(corpus))"
      ]
    },
    {
      "cell_type": "code",
      "execution_count": null,
      "metadata": {
        "colab": {
          "base_uri": "https://localhost:8080/"
        },
        "id": "WtDKGf7oGvhd",
        "outputId": "9480dc4f-1b4b-49b1-f6dd-180a8c2ae49d"
      },
      "outputs": [
        {
          "data": {
            "text/plain": "{\"'s\"}"
          },
          "execution_count": 9,
          "metadata": {},
          "output_type": "execute_result"
        }
      ],
      "source": [
        "set(word_tokenize(corpus) ) - set(wordpunct_tokenize(corpus))"
      ]
    },
    {
      "cell_type": "code",
      "execution_count": null,
      "metadata": {
        "id": "ikwfA-nLHOSR"
      },
      "outputs": [],
      "source": [
        "treebank=TreebankWordTokenizer()\n"
      ]
    },
    {
      "cell_type": "code",
      "execution_count": null,
      "metadata": {
        "colab": {
          "base_uri": "https://localhost:8080/"
        },
        "id": "zYAZ90i_HeQF",
        "outputId": "57190904-2b15-45a9-8ba7-1d4f55ae0184"
      },
      "outputs": [
        {
          "data": {
            "text/plain": "['Hello',\n ',',\n 'My',\n 'name',\n 'is',\n 'Ayomide',\n 'Fagbolade',\n 'and',\n 'this',\n 'is',\n 'my',\n 'first',\n 'time',\n 'working',\n 'with',\n \"NLP's.\",\n 'i',\n 'feel',\n 'super',\n 'excited',\n '!',\n 'join',\n 'me',\n 'in',\n 'this',\n 'journey']"
          },
          "execution_count": 11,
          "metadata": {},
          "output_type": "execute_result"
        }
      ],
      "source": [
        "treebank.tokenize(corpus)"
      ]
    },
    {
      "cell_type": "markdown",
      "metadata": {
        "id": "8HVVzR5rIs-4"
      },
      "source": [
        "#Stemming\n",
        "extracting the lemma (stem word ) of a word"
      ]
    },
    {
      "cell_type": "code",
      "execution_count": null,
      "metadata": {
        "id": "S0UhO6gfIv2A"
      },
      "outputs": [],
      "source": [
        "words_dict= ('comes', 'come','go','went', 'program', 'programs', 'bless', 'blessing', 'blessed', 'universe', 'university')"
      ]
    },
    {
      "cell_type": "code",
      "execution_count": null,
      "metadata": {
        "colab": {
          "base_uri": "https://localhost:8080/"
        },
        "id": "AHYD6M5WJ7lk",
        "outputId": "74a47683-fec0-4710-83dc-9487feef7649"
      },
      "outputs": [
        {
          "data": {
            "text/plain": "['come',\n 'come',\n 'go',\n 'went',\n 'program',\n 'program',\n 'bless',\n 'bless',\n 'bless',\n 'univers',\n 'univers']"
          },
          "execution_count": 13,
          "metadata": {},
          "output_type": "execute_result"
        }
      ],
      "source": [
        "from nltk.stem import PorterStemmer, RegexpStemmer, SnowballStemmer, WordNetLemmatizer\n",
        "\n",
        "\n",
        "port_stem= PorterStemmer()\n",
        "port_words= [port_stem.stem(words) for words in words_dict]\n",
        "port_words"
      ]
    },
    {
      "cell_type": "code",
      "execution_count": null,
      "metadata": {
        "colab": {
          "base_uri": "https://localhost:8080/"
        },
        "id": "da8Qesd0K75O",
        "outputId": "6542c1c6-8c85-4474-b596-90884d5fad19"
      },
      "outputs": [
        {
          "data": {
            "text/plain": "['come',\n 'com',\n 'go',\n 'went',\n 'program',\n 'program',\n 'bles',\n 'bless',\n 'blessed',\n 'univers',\n 'university']"
          },
          "execution_count": 14,
          "metadata": {},
          "output_type": "execute_result"
        }
      ],
      "source": [
        "regex_stem= RegexpStemmer('ing$|s$|e$|able$', min=4)\n",
        "reg_words= [regex_stem.stem(words) for words in words_dict]\n",
        "reg_words"
      ]
    },
    {
      "cell_type": "markdown",
      "metadata": {
        "id": "ZGWlDLIDIl5-"
      },
      "source": [
        "#..."
      ]
    },
    {
      "cell_type": "code",
      "execution_count": null,
      "metadata": {
        "colab": {
          "base_uri": "https://localhost:8080/"
        },
        "id": "9-PtUowQMjIN",
        "outputId": "e4b9c93d-7bae-4ea7-e3c2-b1d7b6857394"
      },
      "outputs": [
        {
          "data": {
            "text/plain": "['come',\n 'come',\n 'go',\n 'went',\n 'program',\n 'program',\n 'bless',\n 'bless',\n 'bless',\n 'univers',\n 'univers']"
          },
          "execution_count": 15,
          "metadata": {},
          "output_type": "execute_result"
        }
      ],
      "source": [
        "snow_stem= SnowballStemmer('english')\n",
        "snow_words= [snow_stem.stem(words) for words in words_dict]\n",
        "snow_words"
      ]
    },
    {
      "cell_type": "markdown",
      "metadata": {
        "id": "5ti6GI0GNfKF"
      },
      "source": [
        "# Lemmatization\n",
        "an upgrade to stemming- deal with root words"
      ]
    },
    {
      "cell_type": "code",
      "execution_count": null,
      "metadata": {
        "colab": {
          "base_uri": "https://localhost:8080/"
        },
        "id": "aClye6zsNeLZ",
        "outputId": "c82355cf-6e27-4813-cf58-75d67a184c90"
      },
      "outputs": [
        {
          "name": "stderr",
          "output_type": "stream",
          "text": "[nltk_data] Downloading package wordnet to /root/nltk_data...\n[nltk_data]   Package wordnet is already up-to-date!\n"
        },
        {
          "data": {
            "text/plain": "['come',\n 'come',\n 'go',\n 'went',\n 'program',\n 'program',\n 'bless',\n 'blessing',\n 'blessed',\n 'universe',\n 'university']"
          },
          "execution_count": 16,
          "metadata": {},
          "output_type": "execute_result"
        }
      ],
      "source": [
        "nltk.download('wordnet')\n",
        "\n",
        "word_net_stem= WordNetLemmatizer()\n",
        "word_net_words= [word_net_stem.lemmatize(words) for words in words_dict]\n",
        "word_net_words"
      ]
    },
    {
      "cell_type": "code",
      "execution_count": null,
      "metadata": {
        "colab": {
          "base_uri": "https://localhost:8080/"
        },
        "id": "3HNSLhUrO29K",
        "outputId": "0c3c6bf9-d6c8-4ba6-f987-62f093bdf004"
      },
      "outputs": [
        {
          "name": "stdout",
          "output_type": "stream",
          "text": "verbs:  ['come', 'come', 'go', 'go', 'program', 'program', 'bless', 'bless', 'bless', 'universe', 'university']\nnouns:  ['come', 'come', 'go', 'went', 'program', 'program', 'bless', 'blessing', 'blessed', 'universe', 'university']\nadjectives:  ['comes', 'come', 'go', 'went', 'program', 'programs', 'bless', 'blessing', 'blessed', 'universe', 'university']\nadverbs:  ['comes', 'come', 'go', 'went', 'program', 'programs', 'bless', 'blessing', 'blessed', 'universe', 'university']\n"
        }
      ],
      "source": [
        "# noun=n, verb=v,adjective=a, adverb=r\n",
        "\n",
        "word_net_words_2= [word_net_stem.lemmatize(words, pos='v') for words in words_dict]\n",
        "print(\"verbs: \",word_net_words_2)\n",
        "word_net_words_3= [word_net_stem.lemmatize(words, pos='n') for words in words_dict]\n",
        "print(\"nouns: \",word_net_words_3)\n",
        "word_net_words_4= [word_net_stem.lemmatize(words, pos='a') for words in words_dict]\n",
        "print(\"adjectives: \",word_net_words_4)\n",
        "word_net_words_5= [word_net_stem.lemmatize(words, pos='r') for words in words_dict]\n",
        "print(\"adverbs: \",word_net_words_5)"
      ]
    },
    {
      "cell_type": "markdown",
      "metadata": {
        "id": "Is2Zp7orZH-M"
      },
      "source": [
        "# Remove stop words"
      ]
    },
    {
      "cell_type": "code",
      "execution_count": null,
      "metadata": {
        "colab": {
          "base_uri": "https://localhost:8080/"
        },
        "id": "oe0cGzUzaDSQ",
        "outputId": "029a4d82-a914-4991-f58e-d50ffe17ccac"
      },
      "outputs": [
        {
          "name": "stderr",
          "output_type": "stream",
          "text": "[nltk_data] Downloading package stopwords to /root/nltk_data...\n[nltk_data]   Package stopwords is already up-to-date!\n"
        }
      ],
      "source": [
        "nltk.download('stopwords')\n",
        "from nltk.corpus import stopwords\n"
      ]
    },
    {
      "cell_type": "code",
      "execution_count": null,
      "metadata": {
        "colab": {
          "base_uri": "https://localhost:8080/"
        },
        "id": "l6Gq0rXRaqcW",
        "outputId": "bad036cb-c393-4af5-e577-0e195b807c3c"
      },
      "outputs": [
        {
          "data": {
            "text/plain": "['a',\n 'about',\n 'above',\n 'after',\n 'again',\n 'against',\n 'ain',\n 'all',\n 'am',\n 'an',\n 'and',\n 'any',\n 'are',\n 'aren',\n \"aren't\",\n 'as',\n 'at',\n 'be',\n 'because',\n 'been',\n 'before',\n 'being',\n 'below',\n 'between',\n 'both',\n 'but',\n 'by',\n 'can',\n 'couldn',\n \"couldn't\",\n 'd',\n 'did',\n 'didn',\n \"didn't\",\n 'do',\n 'does',\n 'doesn',\n \"doesn't\",\n 'doing',\n 'don',\n \"don't\",\n 'down',\n 'during',\n 'each',\n 'few',\n 'for',\n 'from',\n 'further',\n 'had',\n 'hadn',\n \"hadn't\",\n 'has',\n 'hasn',\n \"hasn't\",\n 'have',\n 'haven',\n \"haven't\",\n 'having',\n 'he',\n \"he'd\",\n \"he'll\",\n 'her',\n 'here',\n 'hers',\n 'herself',\n \"he's\",\n 'him',\n 'himself',\n 'his',\n 'how',\n 'i',\n \"i'd\",\n 'if',\n \"i'll\",\n \"i'm\",\n 'in',\n 'into',\n 'is',\n 'isn',\n \"isn't\",\n 'it',\n \"it'd\",\n \"it'll\",\n \"it's\",\n 'its',\n 'itself',\n \"i've\",\n 'just',\n 'll',\n 'm',\n 'ma',\n 'me',\n 'mightn',\n \"mightn't\",\n 'more',\n 'most',\n 'mustn',\n \"mustn't\",\n 'my',\n 'myself',\n 'needn',\n \"needn't\",\n 'no',\n 'nor',\n 'not',\n 'now',\n 'o',\n 'of',\n 'off',\n 'on',\n 'once',\n 'only',\n 'or',\n 'other',\n 'our',\n 'ours',\n 'ourselves',\n 'out',\n 'over',\n 'own',\n 're',\n 's',\n 'same',\n 'shan',\n \"shan't\",\n 'she',\n \"she'd\",\n \"she'll\",\n \"she's\",\n 'should',\n 'shouldn',\n \"shouldn't\",\n \"should've\",\n 'so',\n 'some',\n 'such',\n 't',\n 'than',\n 'that',\n \"that'll\",\n 'the',\n 'their',\n 'theirs',\n 'them',\n 'themselves',\n 'then',\n 'there',\n 'these',\n 'they',\n \"they'd\",\n \"they'll\",\n \"they're\",\n \"they've\",\n 'this',\n 'those',\n 'through',\n 'to',\n 'too',\n 'under',\n 'until',\n 'up',\n 've',\n 'very',\n 'was',\n 'wasn',\n \"wasn't\",\n 'we',\n \"we'd\",\n \"we'll\",\n \"we're\",\n 'were',\n 'weren',\n \"weren't\",\n \"we've\",\n 'what',\n 'when',\n 'where',\n 'which',\n 'while',\n 'who',\n 'whom',\n 'why',\n 'will',\n 'with',\n 'won',\n \"won't\",\n 'wouldn',\n \"wouldn't\",\n 'y',\n 'you',\n \"you'd\",\n \"you'll\",\n 'your',\n \"you're\",\n 'yours',\n 'yourself',\n 'yourselves',\n \"you've\"]"
          },
          "execution_count": 19,
          "metadata": {},
          "output_type": "execute_result"
        }
      ],
      "source": [
        "stopwords.words('english')"
      ]
    },
    {
      "cell_type": "code",
      "execution_count": null,
      "metadata": {
        "id": "5KUVJplabsx7"
      },
      "outputs": [],
      "source": [
        "nlp_essay = \"\"\"Unlocking the Potential of Strings: An Exploration of NLP\\n\n",
        "Natural Language Processing (NLP) stands at the intersection of linguistics, artificial intelligence, and computer science, enabling machines to understand, interpret, and generate human language. At its core lies the humble string—a sequence of characters that serves as the foundation for textual data. This essay explores the role of strings in NLP and how they pave the way for groundbreaking advancements.\\n\n",
        "Strings are the building blocks of language representation in NLP. From individual words to complex sentences, every piece of text begins as a string. Through preprocessing techniques like tokenization, stemming, and lemmatization, strings are transformed into structured formats that machines can analyze. For instance, the sentence 'Exploring NLP concepts is fascinating!' is tokenized into ['Exploring', 'NLP', 'concepts', 'is', 'fascinating'], enabling further analysis.\\n\n",
        "Beyond preprocessing, strings are key to feature extraction. Representations like bag-of-words and TF-IDF quantify textual data, converting strings into numerical vectors. These representations allow models to detect patterns, classify text, and predict outcomes. Yet, strings also pose challenges, such as polysemy and ambiguity. Words like 'bank' could refer to a financial institution or a riverbank, requiring context-aware techniques like word embeddings to resolve meaning.\\n\n",
        "Advanced NLP techniques leverage strings to bridge the gap between human and machine communication. Models like GPT and BERT, powered by transformers, process strings to understand context, sentiment, and intent. Through techniques like attention mechanisms, these models capture relationships between words, producing coherent and contextually relevant responses.\\n\n",
        "Applications of NLP span a myriad of domains, from chatbots to sentiment analysis and machine translation. Strings empower these applications to decipher user queries, interpret emotions, and provide accurate translations. By understanding strings, we unlock the true potential of NLP, enabling machines to navigate the intricacies of human language.\"\"\"\n"
      ]
    },
    {
      "cell_type": "code",
      "execution_count": null,
      "metadata": {
        "id": "efr88KETbxOP"
      },
      "outputs": [],
      "source": [
        "sentences=nltk.sent_tokenize(nlp_essay)"
      ]
    },
    {
      "cell_type": "code",
      "execution_count": null,
      "metadata": {
        "colab": {
          "base_uri": "https://localhost:8080/"
        },
        "id": "iuOyqH1pdmfT",
        "outputId": "d375e0f8-76fb-49cb-c7c7-38437e0dbc37"
      },
      "outputs": [
        {
          "data": {
            "text/plain": "['unlock potenti string : an explor nlp natur languag process ( nlp ) stand intersect linguist , artifici intellig , comput scienc , enabl machin understand , interpret , gener human languag .',\n 'at core lie humbl string—a sequenc charact serv foundat textual data .',\n 'thi essay explor role string nlp pave way groundbreak advanc .',\n 'string build block languag represent nlp .',\n 'from individu word complex sentenc , everi piec text begin string .',\n 'through preprocess techniqu like token , stem , lemmat , string transform structur format machin analyz .',\n \"for instanc , sentenc 'explor nlp concept fascin ! '\",\n \"token [ 'explor ' , 'nlp ' , 'concept ' , 'i ' , 'fascin ' ] , enabl analysi .\",\n 'beyond preprocess , string key featur extract .',\n 'represent like bag-of-word tf-idf quantifi textual data , convert string numer vector .',\n 'these represent allow model detect pattern , classifi text , predict outcom .',\n 'yet , string also pose challeng , polysemi ambigu .',\n \"word like 'bank ' could refer financi institut riverbank , requir context-awar techniqu like word embed resolv mean .\",\n 'advanc nlp techniqu leverag string bridg gap human machin commun .',\n 'model like gpt bert , power transform , process string understand context , sentiment , intent .',\n 'through techniqu like attent mechan , model captur relationship word , produc coher contextu relev respons .',\n 'applic nlp span myriad domain , chatbot sentiment analysi machin translat .',\n 'string empow applic deciph user queri , interpret emot , provid accur translat .',\n 'by understand string , unlock true potenti nlp , enabl machin navig intricaci human languag .']"
          },
          "execution_count": 22,
          "metadata": {},
          "output_type": "execute_result"
        }
      ],
      "source": [
        "for i in range(len(sentences)):\n",
        "  words=nltk.word_tokenize(sentences[i])\n",
        "  words=[port_stem.stem(word) for word in words if word not in set(stopwords.words('english'))]\n",
        "  sentences[i]=' '.join(words)\n",
        "sentences"
      ]
    },
    {
      "cell_type": "code",
      "execution_count": null,
      "metadata": {
        "colab": {
          "base_uri": "https://localhost:8080/"
        },
        "id": "O2eOdth7bS_A",
        "outputId": "1a97c900-7d7f-4869-bf3e-1a2dc9c50e6e"
      },
      "outputs": [
        {
          "data": {
            "text/plain": "['unlocking potential string : an exploration nlp natural language processing ( nlp ) stand intersection linguistics , artificial intelligence , computer science , enabling machine understand , interpret , generate human language .',\n 'at core lie humble string—a sequence character serf foundation textual data .',\n 'this essay explores role string nlp pave way groundbreaking advancement .',\n 'string building block language representation nlp .',\n 'from individual word complex sentence , every piece text begin string .',\n 'through preprocessing technique like tokenization , stemming , lemmatization , string transformed structured format machine analyze .',\n \"for instance , sentence 'exploring nlp concept fascinating ! '\",\n \"tokenized [ 'exploring ' , 'nlp ' , 'concepts ' , 'is ' , 'fascinating ' ] , enabling analysis .\",\n 'beyond preprocessing , string key feature extraction .',\n 'representation like bag-of-words tf-idf quantify textual data , converting string numerical vector .',\n 'these representation allow model detect pattern , classify text , predict outcome .',\n 'yet , string also pose challenge , polysemy ambiguity .',\n \"word like 'bank ' could refer financial institution riverbank , requiring context-aware technique like word embeddings resolve meaning .\",\n 'advanced nlp technique leverage string bridge gap human machine communication .',\n 'model like gpt bert , powered transformer , process string understand context , sentiment , intent .',\n 'through technique like attention mechanism , model capture relationship word , producing coherent contextually relevant response .',\n 'application nlp span myriad domain , chatbots sentiment analysis machine translation .',\n 'string empower application decipher user query , interpret emotion , provide accurate translation .',\n 'by understanding string , unlock true potential nlp , enabling machine navigate intricacy human language .']"
          },
          "execution_count": 23,
          "metadata": {},
          "output_type": "execute_result"
        }
      ],
      "source": [
        "sentences=nltk.sent_tokenize(nlp_essay)\n",
        "for i in range(len(sentences)):\n",
        "  words=nltk.word_tokenize(sentences[i])\n",
        "  words=[word_net_stem.lemmatize(word.lower()) for word in words if word not in set(stopwords.words('english'))]\n",
        "  sentences[i]=' '.join(words)\n",
        "sentences"
      ]
    },
    {
      "cell_type": "markdown",
      "metadata": {
        "id": "UoDEcYtEiZl-"
      },
      "source": [
        "# Parts of Speech Tagging\n",
        "Cordinating conjunction (CC), Cardinal Digit (CD), Determiner(DT)..."
      ]
    },
    {
      "cell_type": "code",
      "execution_count": null,
      "metadata": {
        "colab": {
          "base_uri": "https://localhost:8080/"
        },
        "id": "09VNYUz9jcxm",
        "outputId": "2a054c4a-e757-4e3d-9367-6622a7530917"
      },
      "outputs": [
        {
          "name": "stderr",
          "output_type": "stream",
          "text": "[nltk_data] Downloading package averaged_perceptron_tagger_eng to\n[nltk_data]     /root/nltk_data...\n[nltk_data]   Package averaged_perceptron_tagger_eng is already up-to-\n[nltk_data]       date!\n"
        },
        {
          "name": "stdout",
          "output_type": "stream",
          "text": "[[('Unlocking', 'VBG'),\n  ('Potential', 'JJ'),\n  ('Strings', 'NNS'),\n  (':', ':'),\n  ('An', 'DT'),\n  ('Exploration', 'NNP'),\n  ('NLP', 'NNP'),\n  ('Natural', 'NNP'),\n  ('Language', 'NNP'),\n  ('Processing', 'NNP'),\n  ('(', '('),\n  ('NLP', 'NNP'),\n  (')', ')'),\n  ('stands', 'VBZ'),\n  ('intersection', 'JJ'),\n  ('linguistics', 'NNS'),\n  (',', ','),\n  ('artificial', 'JJ'),\n  ('intelligence', 'NN'),\n  (',', ','),\n  ('computer', 'NN'),\n  ('science', 'NN'),\n  (',', ','),\n  ('enabling', 'VBG'),\n  ('machines', 'NNS'),\n  ('understand', 'RB'),\n  (',', ','),\n  ('interpret', 'NN'),\n  (',', ','),\n  ('generate', 'VBP'),\n  ('human', 'JJ'),\n  ('language', 'NN'),\n  ('.', '.')],\n [('At', 'IN'),\n  ('core', 'NN'),\n  ('lies', 'NNS'),\n  ('humble', 'JJ'),\n  ('string—a', 'JJ'),\n  ('sequence', 'NN'),\n  ('characters', 'NNS'),\n  ('serves', 'VBZ'),\n  ('foundation', 'VBP'),\n  ('textual', 'JJ'),\n  ('data', 'NNS'),\n  ('.', '.')],\n [('This', 'DT'),\n  ('essay', 'NN'),\n  ('explores', 'VBZ'),\n  ('role', 'NN'),\n  ('strings', 'NNS'),\n  ('NLP', 'NNP'),\n  ('pave', 'VBP'),\n  ('way', 'NN'),\n  ('groundbreaking', 'VBG'),\n  ('advancements', 'NNS'),\n  ('.', '.')],\n [('Strings', 'NNS'),\n  ('building', 'NN'),\n  ('blocks', 'NNS'),\n  ('language', 'NN'),\n  ('representation', 'NN'),\n  ('NLP', 'NNP'),\n  ('.', '.')],\n [('From', 'IN'),\n  ('individual', 'JJ'),\n  ('words', 'NNS'),\n  ('complex', 'JJ'),\n  ('sentences', 'NNS'),\n  (',', ','),\n  ('every', 'DT'),\n  ('piece', 'NN'),\n  ('text', 'NN'),\n  ('begins', 'VBZ'),\n  ('string', 'VBG'),\n  ('.', '.')],\n [('Through', 'IN'),\n  ('preprocessing', 'VBG'),\n  ('techniques', 'NNS'),\n  ('like', 'IN'),\n  ('tokenization', 'NN'),\n  (',', ','),\n  ('stemming', 'VBG'),\n  (',', ','),\n  ('lemmatization', 'NN'),\n  (',', ','),\n  ('strings', 'NNS'),\n  ('transformed', 'VBD'),\n  ('structured', 'JJ'),\n  ('formats', 'NNS'),\n  ('machines', 'NNS'),\n  ('analyze', 'RB'),\n  ('.', '.')],\n [('For', 'IN'),\n  ('instance', 'NN'),\n  (',', ','),\n  ('sentence', 'NN'),\n  (\"'Exploring\", 'VBG'),\n  ('NLP', 'NNP'),\n  ('concepts', 'NNS'),\n  ('fascinating', 'VBG'),\n  ('!', '.'),\n  (\"'\", \"''\")],\n [('tokenized', 'VBN'),\n  ('[', 'JJ'),\n  (\"'Exploring\", 'VBG'),\n  (\"'\", \"''\"),\n  (',', ','),\n  (\"'NLP\", 'NNP'),\n  (\"'\", 'POS'),\n  (',', ','),\n  (\"'concepts\", 'NNS'),\n  (\"'\", 'POS'),\n  (',', ','),\n  (\"'is\", 'NNP'),\n  (\"'\", 'POS'),\n  (',', ','),\n  (\"'fascinating\", 'VBG'),\n  (\"'\", \"''\"),\n  (']', 'NN'),\n  (',', ','),\n  ('enabling', 'VBG'),\n  ('analysis', 'NN'),\n  ('.', '.')],\n [('Beyond', 'IN'),\n  ('preprocessing', 'NN'),\n  (',', ','),\n  ('strings', 'NNS'),\n  ('key', 'JJ'),\n  ('feature', 'JJ'),\n  ('extraction', 'NN'),\n  ('.', '.')],\n [('Representations', 'NNS'),\n  ('like', 'IN'),\n  ('bag-of-words', 'NNS'),\n  ('TF-IDF', 'NNP'),\n  ('quantify', 'VBP'),\n  ('textual', 'JJ'),\n  ('data', 'NNS'),\n  (',', ','),\n  ('converting', 'VBG'),\n  ('strings', 'NNS'),\n  ('numerical', 'JJ'),\n  ('vectors', 'NNS'),\n  ('.', '.')],\n [('These', 'DT'),\n  ('representations', 'NNS'),\n  ('allow', 'VBP'),\n  ('models', 'NNS'),\n  ('detect', 'VBP'),\n  ('patterns', 'NNS'),\n  (',', ','),\n  ('classify', 'VB'),\n  ('text', 'NN'),\n  (',', ','),\n  ('predict', 'JJ'),\n  ('outcomes', 'NNS'),\n  ('.', '.')],\n [('Yet', 'RB'),\n  (',', ','),\n  ('strings', 'NNS'),\n  ('also', 'RB'),\n  ('pose', 'VBP'),\n  ('challenges', 'NNS'),\n  (',', ','),\n  ('polysemy', 'NN'),\n  ('ambiguity', 'NN'),\n  ('.', '.')],\n [('Words', 'NNS'),\n  ('like', 'IN'),\n  (\"'bank\", 'NNP'),\n  (\"'\", 'POS'),\n  ('could', 'MD'),\n  ('refer', 'VB'),\n  ('financial', 'JJ'),\n  ('institution', 'NN'),\n  ('riverbank', 'NN'),\n  (',', ','),\n  ('requiring', 'VBG'),\n  ('context-aware', 'NN'),\n  ('techniques', 'NNS'),\n  ('like', 'IN'),\n  ('word', 'NN'),\n  ('embeddings', 'NNS'),\n  ('resolve', 'VBP'),\n  ('meaning', 'NN'),\n  ('.', '.')],\n [('Advanced', 'NNP'),\n  ('NLP', 'NNP'),\n  ('techniques', 'NNS'),\n  ('leverage', 'VBP'),\n  ('strings', 'NNS'),\n  ('bridge', 'VBP'),\n  ('gap', 'NN'),\n  ('human', 'JJ'),\n  ('machine', 'NN'),\n  ('communication', 'NN'),\n  ('.', '.')],\n [('Models', 'NNS'),\n  ('like', 'IN'),\n  ('GPT', 'NNP'),\n  ('BERT', 'NNP'),\n  (',', ','),\n  ('powered', 'VBD'),\n  ('transformers', 'NNS'),\n  (',', ','),\n  ('process', 'NN'),\n  ('strings', 'NNS'),\n  ('understand', 'VBP'),\n  ('context', 'NN'),\n  (',', ','),\n  ('sentiment', 'NN'),\n  (',', ','),\n  ('intent', 'NN'),\n  ('.', '.')],\n [('Through', 'IN'),\n  ('techniques', 'NNS'),\n  ('like', 'IN'),\n  ('attention', 'NN'),\n  ('mechanisms', 'NNS'),\n  (',', ','),\n  ('models', 'NNS'),\n  ('capture', 'VBP'),\n  ('relationships', 'NNS'),\n  ('words', 'NNS'),\n  (',', ','),\n  ('producing', 'VBG'),\n  ('coherent', 'NN'),\n  ('contextually', 'RB'),\n  ('relevant', 'JJ'),\n  ('responses', 'NNS'),\n  ('.', '.')],\n [('Applications', 'NNS'),\n  ('NLP', 'NNP'),\n  ('span', 'VBP'),\n  ('myriad', 'NN'),\n  ('domains', 'NNS'),\n  (',', ','),\n  ('chatbots', 'NNS'),\n  ('sentiment', 'JJ'),\n  ('analysis', 'NN'),\n  ('machine', 'NN'),\n  ('translation', 'NN'),\n  ('.', '.')],\n [('Strings', 'NNS'),\n  ('empower', 'VBP'),\n  ('applications', 'NNS'),\n  ('decipher', 'RB'),\n  ('user', 'JJ'),\n  ('queries', 'NNS'),\n  (',', ','),\n  ('interpret', 'JJ'),\n  ('emotions', 'NNS'),\n  (',', ','),\n  ('provide', 'VB'),\n  ('accurate', 'JJ'),\n  ('translations', 'NNS'),\n  ('.', '.')],\n [('By', 'IN'),\n  ('understanding', 'VBG'),\n  ('strings', 'NNS'),\n  (',', ','),\n  ('unlock', 'JJ'),\n  ('true', 'JJ'),\n  ('potential', 'JJ'),\n  ('NLP', 'NNP'),\n  (',', ','),\n  ('enabling', 'VBG'),\n  ('machines', 'NNS'),\n  ('navigate', 'JJ'),\n  ('intricacies', 'NNS'),\n  ('human', 'JJ'),\n  ('language', 'NN'),\n  ('.', '.')]]\n"
        }
      ],
      "source": [
        "nltk.download('averaged_perceptron_tagger_eng')\n",
        "from pprint import pprint\n",
        "sentences=nltk.sent_tokenize(nlp_essay)\n",
        "pos_words=[]\n",
        "for i in range(len(sentences)):\n",
        "  words=nltk.word_tokenize(sentences[i])\n",
        "  words=[word for word in words if word not in set(stopwords.words('english'))]\n",
        "  pos_words.append(nltk.pos_tag(words))\n",
        "pprint(pos_words)"
      ]
    },
    {
      "cell_type": "markdown",
      "metadata": {
        "id": "2xpmbClelOpT"
      },
      "source": [
        "#Name Entity Recognition\n",
        "extract name, organization,etc."
      ]
    },
    {
      "cell_type": "code",
      "execution_count": null,
      "metadata": {
        "colab": {
          "base_uri": "https://localhost:8080/"
        },
        "id": "SxTsNNK-rD1f",
        "outputId": "f0c13a5b-9111-48a7-a8ac-26cdf6341154"
      },
      "outputs": [
        {
          "name": "stderr",
          "output_type": "stream",
          "text": "[nltk_data] Downloading package maxent_ne_chunker_tab to\n[nltk_data]     /root/nltk_data...\n[nltk_data]   Package maxent_ne_chunker_tab is already up-to-date!\n[nltk_data] Downloading package words to /root/nltk_data...\n[nltk_data]   Package words is already up-to-date!\n"
        },
        {
          "name": "stdout",
          "output_type": "stream",
          "text": "Requirement already satisfied: svgling in /usr/local/lib/python3.11/dist-packages (0.5.0)\nRequirement already satisfied: svgwrite in /usr/local/lib/python3.11/dist-packages (from svgling) (1.4.3)\nReading package lists... Done\nBuilding dependency tree... Done\nReading state information... Done\nghostscript is already the newest version (9.55.0~dfsg1-0ubuntu5.11).\n0 upgraded, 0 newly installed, 0 to remove and 29 not upgraded.\n"
        }
      ],
      "source": [
        "nltk.download('maxent_ne_chunker_tab')\n",
        "nltk.download('words')\n",
        "!pip install svgling\n",
        "!apt install ghostscript\n",
        "\n",
        "\n",
        "\n",
        "\n"
      ]
    },
    {
      "cell_type": "code",
      "execution_count": null,
      "metadata": {
        "colab": {
          "base_uri": "https://localhost:8080/",
          "height": 209
        },
        "id": "dBIaM-92r0vO",
        "outputId": "a789e908-cf2c-47fd-e618-88899a39c27b"
      },
      "outputs": [
        {
          "data": {
            "image/svg+xml": "<svg baseProfile=\"full\" height=\"168px\" preserveAspectRatio=\"xMidYMid meet\" style=\"font-family: times, serif; font-weight: normal; font-style: normal; font-size: 16px\" version=\"1.1\" viewBox=\"0,0,2200.0,168.0\" width=\"2200px\" xmlns=\"http://www.w3.org/2000/svg\" xmlns:ev=\"http://www.w3.org/2001/xml-events\" xmlns:xlink=\"http://www.w3.org/1999/xlink\"><defs /><svg width=\"100%\" x=\"0\" y=\"0px\"><defs /><text text-anchor=\"middle\" x=\"50%\" y=\"16px\">S</text></svg><svg width=\"4%\" x=\"0%\" y=\"48px\"><defs /><svg width=\"100%\" x=\"0\" y=\"0px\"><defs /><text text-anchor=\"middle\" x=\"50%\" y=\"16px\">Unlocking</text></svg><svg width=\"100%\" x=\"0%\" y=\"48px\"><defs /><svg width=\"100%\" x=\"0\" y=\"0px\"><defs /><text text-anchor=\"middle\" x=\"50%\" y=\"16px\">VBG</text></svg></svg><line stroke=\"black\" x1=\"50%\" x2=\"50%\" y1=\"20px\" y2=\"48px\" /></svg><line stroke=\"black\" x1=\"50%\" x2=\"2%\" y1=\"20px\" y2=\"48px\" /><svg width=\"4%\" x=\"4%\" y=\"48px\"><defs /><svg width=\"100%\" x=\"0\" y=\"0px\"><defs /><text text-anchor=\"middle\" x=\"50%\" y=\"16px\">Potential</text></svg><svg width=\"100%\" x=\"0%\" y=\"48px\"><defs /><svg width=\"100%\" x=\"0\" y=\"0px\"><defs /><text text-anchor=\"middle\" x=\"50%\" y=\"16px\">JJ</text></svg></svg><line stroke=\"black\" x1=\"50%\" x2=\"50%\" y1=\"20px\" y2=\"48px\" /></svg><line stroke=\"black\" x1=\"50%\" x2=\"6%\" y1=\"20px\" y2=\"48px\" /><svg width=\"3.27273%\" x=\"8%\" y=\"48px\"><defs /><svg width=\"100%\" x=\"0\" y=\"0px\"><defs /><text text-anchor=\"middle\" x=\"50%\" y=\"16px\">Strings</text></svg><svg width=\"100%\" x=\"0%\" y=\"48px\"><defs /><svg width=\"100%\" x=\"0\" y=\"0px\"><defs /><text text-anchor=\"middle\" x=\"50%\" y=\"16px\">NNS</text></svg></svg><line stroke=\"black\" x1=\"50%\" x2=\"50%\" y1=\"20px\" y2=\"48px\" /></svg><line stroke=\"black\" x1=\"50%\" x2=\"9.63636%\" y1=\"20px\" y2=\"48px\" /><svg width=\"1.09091%\" x=\"11.2727%\" y=\"48px\"><defs /><svg width=\"100%\" x=\"0\" y=\"0px\"><defs /><text text-anchor=\"middle\" x=\"50%\" y=\"16px\">:</text></svg><svg width=\"100%\" x=\"0%\" y=\"48px\"><defs /><svg width=\"100%\" x=\"0\" y=\"0px\"><defs /><text text-anchor=\"middle\" x=\"50%\" y=\"16px\">:</text></svg></svg><line stroke=\"black\" x1=\"50%\" x2=\"50%\" y1=\"20px\" y2=\"48px\" /></svg><line stroke=\"black\" x1=\"50%\" x2=\"11.8182%\" y1=\"20px\" y2=\"48px\" /><svg width=\"1.45455%\" x=\"12.3636%\" y=\"48px\"><defs /><svg width=\"100%\" x=\"0\" y=\"0px\"><defs /><text text-anchor=\"middle\" x=\"50%\" y=\"16px\">An</text></svg><svg width=\"100%\" x=\"0%\" y=\"48px\"><defs /><svg width=\"100%\" x=\"0\" y=\"0px\"><defs /><text text-anchor=\"middle\" x=\"50%\" y=\"16px\">DT</text></svg></svg><line stroke=\"black\" x1=\"50%\" x2=\"50%\" y1=\"20px\" y2=\"48px\" /></svg><line stroke=\"black\" x1=\"50%\" x2=\"13.0909%\" y1=\"20px\" y2=\"48px\" /><svg width=\"4.72727%\" x=\"13.8182%\" y=\"48px\"><defs /><svg width=\"100%\" x=\"0\" y=\"0px\"><defs /><text text-anchor=\"middle\" x=\"50%\" y=\"16px\">Exploration</text></svg><svg width=\"100%\" x=\"0%\" y=\"48px\"><defs /><svg width=\"100%\" x=\"0\" y=\"0px\"><defs /><text text-anchor=\"middle\" x=\"50%\" y=\"16px\">NNP</text></svg></svg><line stroke=\"black\" x1=\"50%\" x2=\"50%\" y1=\"20px\" y2=\"48px\" /></svg><line stroke=\"black\" x1=\"50%\" x2=\"16.1818%\" y1=\"20px\" y2=\"48px\" /><svg width=\"1.81818%\" x=\"18.5455%\" y=\"48px\"><defs /><svg width=\"100%\" x=\"0\" y=\"0px\"><defs /><text text-anchor=\"middle\" x=\"50%\" y=\"16px\">NLP</text></svg><svg width=\"100%\" x=\"0%\" y=\"48px\"><defs /><svg width=\"100%\" x=\"0\" y=\"0px\"><defs /><text text-anchor=\"middle\" x=\"50%\" y=\"16px\">NNP</text></svg></svg><line stroke=\"black\" x1=\"50%\" x2=\"50%\" y1=\"20px\" y2=\"48px\" /></svg><line stroke=\"black\" x1=\"50%\" x2=\"19.4545%\" y1=\"20px\" y2=\"48px\" /><svg width=\"3.27273%\" x=\"20.3636%\" y=\"48px\"><defs /><svg width=\"100%\" x=\"0\" y=\"0px\"><defs /><text text-anchor=\"middle\" x=\"50%\" y=\"16px\">Natural</text></svg><svg width=\"100%\" x=\"0%\" y=\"48px\"><defs /><svg width=\"100%\" x=\"0\" y=\"0px\"><defs /><text text-anchor=\"middle\" x=\"50%\" y=\"16px\">NNP</text></svg></svg><line stroke=\"black\" x1=\"50%\" x2=\"50%\" y1=\"20px\" y2=\"48px\" /></svg><line stroke=\"black\" x1=\"50%\" x2=\"22%\" y1=\"20px\" y2=\"48px\" /><svg width=\"3.63636%\" x=\"23.6364%\" y=\"48px\"><defs /><svg width=\"100%\" x=\"0\" y=\"0px\"><defs /><text text-anchor=\"middle\" x=\"50%\" y=\"16px\">Language</text></svg><svg width=\"100%\" x=\"0%\" y=\"48px\"><defs /><svg width=\"100%\" x=\"0\" y=\"0px\"><defs /><text text-anchor=\"middle\" x=\"50%\" y=\"16px\">NNP</text></svg></svg><line stroke=\"black\" x1=\"50%\" x2=\"50%\" y1=\"20px\" y2=\"48px\" /></svg><line stroke=\"black\" x1=\"50%\" x2=\"25.4545%\" y1=\"20px\" y2=\"48px\" /><svg width=\"4.36364%\" x=\"27.2727%\" y=\"48px\"><defs /><svg width=\"100%\" x=\"0\" y=\"0px\"><defs /><text text-anchor=\"middle\" x=\"50%\" y=\"16px\">Processing</text></svg><svg width=\"100%\" x=\"0%\" y=\"48px\"><defs /><svg width=\"100%\" x=\"0\" y=\"0px\"><defs /><text text-anchor=\"middle\" x=\"50%\" y=\"16px\">NNP</text></svg></svg><line stroke=\"black\" x1=\"50%\" x2=\"50%\" y1=\"20px\" y2=\"48px\" /></svg><line stroke=\"black\" x1=\"50%\" x2=\"29.4545%\" y1=\"20px\" y2=\"48px\" /><svg width=\"1.09091%\" x=\"31.6364%\" y=\"48px\"><defs /><svg width=\"100%\" x=\"0\" y=\"0px\"><defs /><text text-anchor=\"middle\" x=\"50%\" y=\"16px\">(</text></svg><svg width=\"100%\" x=\"0%\" y=\"48px\"><defs /><svg width=\"100%\" x=\"0\" y=\"0px\"><defs /><text text-anchor=\"middle\" x=\"50%\" y=\"16px\">(</text></svg></svg><line stroke=\"black\" x1=\"50%\" x2=\"50%\" y1=\"20px\" y2=\"48px\" /></svg><line stroke=\"black\" x1=\"50%\" x2=\"32.1818%\" y1=\"20px\" y2=\"48px\" /><svg width=\"5.09091%\" x=\"32.7273%\" y=\"48px\"><defs /><svg width=\"100%\" x=\"0\" y=\"0px\"><defs /><text text-anchor=\"middle\" x=\"50%\" y=\"16px\">ORGANIZATION</text></svg><svg width=\"100%\" x=\"0%\" y=\"48px\"><defs /><svg width=\"100%\" x=\"0\" y=\"0px\"><defs /><text text-anchor=\"middle\" x=\"50%\" y=\"16px\">NLP</text></svg><svg width=\"100%\" x=\"0%\" y=\"48px\"><defs /><svg width=\"100%\" x=\"0\" y=\"0px\"><defs /><text text-anchor=\"middle\" x=\"50%\" y=\"16px\">NNP</text></svg></svg><line stroke=\"black\" x1=\"50%\" x2=\"50%\" y1=\"20px\" y2=\"48px\" /></svg><line stroke=\"black\" x1=\"50%\" x2=\"50%\" y1=\"20px\" y2=\"48px\" /></svg><line stroke=\"black\" x1=\"50%\" x2=\"35.2727%\" y1=\"20px\" y2=\"48px\" /><svg width=\"1.09091%\" x=\"37.8182%\" y=\"48px\"><defs /><svg width=\"100%\" x=\"0\" y=\"0px\"><defs /><text text-anchor=\"middle\" x=\"50%\" y=\"16px\">)</text></svg><svg width=\"100%\" x=\"0%\" y=\"48px\"><defs /><svg width=\"100%\" x=\"0\" y=\"0px\"><defs /><text text-anchor=\"middle\" x=\"50%\" y=\"16px\">)</text></svg></svg><line stroke=\"black\" x1=\"50%\" x2=\"50%\" y1=\"20px\" y2=\"48px\" /></svg><line stroke=\"black\" x1=\"50%\" x2=\"38.3636%\" y1=\"20px\" y2=\"48px\" /><svg width=\"2.90909%\" x=\"38.9091%\" y=\"48px\"><defs /><svg width=\"100%\" x=\"0\" y=\"0px\"><defs /><text text-anchor=\"middle\" x=\"50%\" y=\"16px\">stands</text></svg><svg width=\"100%\" x=\"0%\" y=\"48px\"><defs /><svg width=\"100%\" x=\"0\" y=\"0px\"><defs /><text text-anchor=\"middle\" x=\"50%\" y=\"16px\">VBZ</text></svg></svg><line stroke=\"black\" x1=\"50%\" x2=\"50%\" y1=\"20px\" y2=\"48px\" /></svg><line stroke=\"black\" x1=\"50%\" x2=\"40.3636%\" y1=\"20px\" y2=\"48px\" /><svg width=\"5.09091%\" x=\"41.8182%\" y=\"48px\"><defs /><svg width=\"100%\" x=\"0\" y=\"0px\"><defs /><text text-anchor=\"middle\" x=\"50%\" y=\"16px\">intersection</text></svg><svg width=\"100%\" x=\"0%\" y=\"48px\"><defs /><svg width=\"100%\" x=\"0\" y=\"0px\"><defs /><text text-anchor=\"middle\" x=\"50%\" y=\"16px\">JJ</text></svg></svg><line stroke=\"black\" x1=\"50%\" x2=\"50%\" y1=\"20px\" y2=\"48px\" /></svg><line stroke=\"black\" x1=\"50%\" x2=\"44.3636%\" y1=\"20px\" y2=\"48px\" /><svg width=\"4.72727%\" x=\"46.9091%\" y=\"48px\"><defs /><svg width=\"100%\" x=\"0\" y=\"0px\"><defs /><text text-anchor=\"middle\" x=\"50%\" y=\"16px\">linguistics</text></svg><svg width=\"100%\" x=\"0%\" y=\"48px\"><defs /><svg width=\"100%\" x=\"0\" y=\"0px\"><defs /><text text-anchor=\"middle\" x=\"50%\" y=\"16px\">NNS</text></svg></svg><line stroke=\"black\" x1=\"50%\" x2=\"50%\" y1=\"20px\" y2=\"48px\" /></svg><line stroke=\"black\" x1=\"50%\" x2=\"49.2727%\" y1=\"20px\" y2=\"48px\" /><svg width=\"1.09091%\" x=\"51.6364%\" y=\"48px\"><defs /><svg width=\"100%\" x=\"0\" y=\"0px\"><defs /><text text-anchor=\"middle\" x=\"50%\" y=\"16px\">,</text></svg><svg width=\"100%\" x=\"0%\" y=\"48px\"><defs /><svg width=\"100%\" x=\"0\" y=\"0px\"><defs /><text text-anchor=\"middle\" x=\"50%\" y=\"16px\">,</text></svg></svg><line stroke=\"black\" x1=\"50%\" x2=\"50%\" y1=\"20px\" y2=\"48px\" /></svg><line stroke=\"black\" x1=\"50%\" x2=\"52.1818%\" y1=\"20px\" y2=\"48px\" /><svg width=\"4.36364%\" x=\"52.7273%\" y=\"48px\"><defs /><svg width=\"100%\" x=\"0\" y=\"0px\"><defs /><text text-anchor=\"middle\" x=\"50%\" y=\"16px\">artificial</text></svg><svg width=\"100%\" x=\"0%\" y=\"48px\"><defs /><svg width=\"100%\" x=\"0\" y=\"0px\"><defs /><text text-anchor=\"middle\" x=\"50%\" y=\"16px\">JJ</text></svg></svg><line stroke=\"black\" x1=\"50%\" x2=\"50%\" y1=\"20px\" y2=\"48px\" /></svg><line stroke=\"black\" x1=\"50%\" x2=\"54.9091%\" y1=\"20px\" y2=\"48px\" /><svg width=\"5.09091%\" x=\"57.0909%\" y=\"48px\"><defs /><svg width=\"100%\" x=\"0\" y=\"0px\"><defs /><text text-anchor=\"middle\" x=\"50%\" y=\"16px\">intelligence</text></svg><svg width=\"100%\" x=\"0%\" y=\"48px\"><defs /><svg width=\"100%\" x=\"0\" y=\"0px\"><defs /><text text-anchor=\"middle\" x=\"50%\" y=\"16px\">NN</text></svg></svg><line stroke=\"black\" x1=\"50%\" x2=\"50%\" y1=\"20px\" y2=\"48px\" /></svg><line stroke=\"black\" x1=\"50%\" x2=\"59.6364%\" y1=\"20px\" y2=\"48px\" /><svg width=\"1.09091%\" x=\"62.1818%\" y=\"48px\"><defs /><svg width=\"100%\" x=\"0\" y=\"0px\"><defs /><text text-anchor=\"middle\" x=\"50%\" y=\"16px\">,</text></svg><svg width=\"100%\" x=\"0%\" y=\"48px\"><defs /><svg width=\"100%\" x=\"0\" y=\"0px\"><defs /><text text-anchor=\"middle\" x=\"50%\" y=\"16px\">,</text></svg></svg><line stroke=\"black\" x1=\"50%\" x2=\"50%\" y1=\"20px\" y2=\"48px\" /></svg><line stroke=\"black\" x1=\"50%\" x2=\"62.7273%\" y1=\"20px\" y2=\"48px\" /><svg width=\"3.63636%\" x=\"63.2727%\" y=\"48px\"><defs /><svg width=\"100%\" x=\"0\" y=\"0px\"><defs /><text text-anchor=\"middle\" x=\"50%\" y=\"16px\">computer</text></svg><svg width=\"100%\" x=\"0%\" y=\"48px\"><defs /><svg width=\"100%\" x=\"0\" y=\"0px\"><defs /><text text-anchor=\"middle\" x=\"50%\" y=\"16px\">NN</text></svg></svg><line stroke=\"black\" x1=\"50%\" x2=\"50%\" y1=\"20px\" y2=\"48px\" /></svg><line stroke=\"black\" x1=\"50%\" x2=\"65.0909%\" y1=\"20px\" y2=\"48px\" /><svg width=\"3.27273%\" x=\"66.9091%\" y=\"48px\"><defs /><svg width=\"100%\" x=\"0\" y=\"0px\"><defs /><text text-anchor=\"middle\" x=\"50%\" y=\"16px\">science</text></svg><svg width=\"100%\" x=\"0%\" y=\"48px\"><defs /><svg width=\"100%\" x=\"0\" y=\"0px\"><defs /><text text-anchor=\"middle\" x=\"50%\" y=\"16px\">NN</text></svg></svg><line stroke=\"black\" x1=\"50%\" x2=\"50%\" y1=\"20px\" y2=\"48px\" /></svg><line stroke=\"black\" x1=\"50%\" x2=\"68.5455%\" y1=\"20px\" y2=\"48px\" /><svg width=\"1.09091%\" x=\"70.1818%\" y=\"48px\"><defs /><svg width=\"100%\" x=\"0\" y=\"0px\"><defs /><text text-anchor=\"middle\" x=\"50%\" y=\"16px\">,</text></svg><svg width=\"100%\" x=\"0%\" y=\"48px\"><defs /><svg width=\"100%\" x=\"0\" y=\"0px\"><defs /><text text-anchor=\"middle\" x=\"50%\" y=\"16px\">,</text></svg></svg><line stroke=\"black\" x1=\"50%\" x2=\"50%\" y1=\"20px\" y2=\"48px\" /></svg><line stroke=\"black\" x1=\"50%\" x2=\"70.7273%\" y1=\"20px\" y2=\"48px\" /><svg width=\"3.63636%\" x=\"71.2727%\" y=\"48px\"><defs /><svg width=\"100%\" x=\"0\" y=\"0px\"><defs /><text text-anchor=\"middle\" x=\"50%\" y=\"16px\">enabling</text></svg><svg width=\"100%\" x=\"0%\" y=\"48px\"><defs /><svg width=\"100%\" x=\"0\" y=\"0px\"><defs /><text text-anchor=\"middle\" x=\"50%\" y=\"16px\">VBG</text></svg></svg><line stroke=\"black\" x1=\"50%\" x2=\"50%\" y1=\"20px\" y2=\"48px\" /></svg><line stroke=\"black\" x1=\"50%\" x2=\"73.0909%\" y1=\"20px\" y2=\"48px\" /><svg width=\"3.63636%\" x=\"74.9091%\" y=\"48px\"><defs /><svg width=\"100%\" x=\"0\" y=\"0px\"><defs /><text text-anchor=\"middle\" x=\"50%\" y=\"16px\">machines</text></svg><svg width=\"100%\" x=\"0%\" y=\"48px\"><defs /><svg width=\"100%\" x=\"0\" y=\"0px\"><defs /><text text-anchor=\"middle\" x=\"50%\" y=\"16px\">NNS</text></svg></svg><line stroke=\"black\" x1=\"50%\" x2=\"50%\" y1=\"20px\" y2=\"48px\" /></svg><line stroke=\"black\" x1=\"50%\" x2=\"76.7273%\" y1=\"20px\" y2=\"48px\" /><svg width=\"4.36364%\" x=\"78.5455%\" y=\"48px\"><defs /><svg width=\"100%\" x=\"0\" y=\"0px\"><defs /><text text-anchor=\"middle\" x=\"50%\" y=\"16px\">understand</text></svg><svg width=\"100%\" x=\"0%\" y=\"48px\"><defs /><svg width=\"100%\" x=\"0\" y=\"0px\"><defs /><text text-anchor=\"middle\" x=\"50%\" y=\"16px\">RB</text></svg></svg><line stroke=\"black\" x1=\"50%\" x2=\"50%\" y1=\"20px\" y2=\"48px\" /></svg><line stroke=\"black\" x1=\"50%\" x2=\"80.7273%\" y1=\"20px\" y2=\"48px\" /><svg width=\"1.09091%\" x=\"82.9091%\" y=\"48px\"><defs /><svg width=\"100%\" x=\"0\" y=\"0px\"><defs /><text text-anchor=\"middle\" x=\"50%\" y=\"16px\">,</text></svg><svg width=\"100%\" x=\"0%\" y=\"48px\"><defs /><svg width=\"100%\" x=\"0\" y=\"0px\"><defs /><text text-anchor=\"middle\" x=\"50%\" y=\"16px\">,</text></svg></svg><line stroke=\"black\" x1=\"50%\" x2=\"50%\" y1=\"20px\" y2=\"48px\" /></svg><line stroke=\"black\" x1=\"50%\" x2=\"83.4545%\" y1=\"20px\" y2=\"48px\" /><svg width=\"4%\" x=\"84%\" y=\"48px\"><defs /><svg width=\"100%\" x=\"0\" y=\"0px\"><defs /><text text-anchor=\"middle\" x=\"50%\" y=\"16px\">interpret</text></svg><svg width=\"100%\" x=\"0%\" y=\"48px\"><defs /><svg width=\"100%\" x=\"0\" y=\"0px\"><defs /><text text-anchor=\"middle\" x=\"50%\" y=\"16px\">NN</text></svg></svg><line stroke=\"black\" x1=\"50%\" x2=\"50%\" y1=\"20px\" y2=\"48px\" /></svg><line stroke=\"black\" x1=\"50%\" x2=\"86%\" y1=\"20px\" y2=\"48px\" /><svg width=\"1.09091%\" x=\"88%\" y=\"48px\"><defs /><svg width=\"100%\" x=\"0\" y=\"0px\"><defs /><text text-anchor=\"middle\" x=\"50%\" y=\"16px\">,</text></svg><svg width=\"100%\" x=\"0%\" y=\"48px\"><defs /><svg width=\"100%\" x=\"0\" y=\"0px\"><defs /><text text-anchor=\"middle\" x=\"50%\" y=\"16px\">,</text></svg></svg><line stroke=\"black\" x1=\"50%\" x2=\"50%\" y1=\"20px\" y2=\"48px\" /></svg><line stroke=\"black\" x1=\"50%\" x2=\"88.5455%\" y1=\"20px\" y2=\"48px\" /><svg width=\"3.63636%\" x=\"89.0909%\" y=\"48px\"><defs /><svg width=\"100%\" x=\"0\" y=\"0px\"><defs /><text text-anchor=\"middle\" x=\"50%\" y=\"16px\">generate</text></svg><svg width=\"100%\" x=\"0%\" y=\"48px\"><defs /><svg width=\"100%\" x=\"0\" y=\"0px\"><defs /><text text-anchor=\"middle\" x=\"50%\" y=\"16px\">VBP</text></svg></svg><line stroke=\"black\" x1=\"50%\" x2=\"50%\" y1=\"20px\" y2=\"48px\" /></svg><line stroke=\"black\" x1=\"50%\" x2=\"90.9091%\" y1=\"20px\" y2=\"48px\" /><svg width=\"2.54545%\" x=\"92.7273%\" y=\"48px\"><defs /><svg width=\"100%\" x=\"0\" y=\"0px\"><defs /><text text-anchor=\"middle\" x=\"50%\" y=\"16px\">human</text></svg><svg width=\"100%\" x=\"0%\" y=\"48px\"><defs /><svg width=\"100%\" x=\"0\" y=\"0px\"><defs /><text text-anchor=\"middle\" x=\"50%\" y=\"16px\">JJ</text></svg></svg><line stroke=\"black\" x1=\"50%\" x2=\"50%\" y1=\"20px\" y2=\"48px\" /></svg><line stroke=\"black\" x1=\"50%\" x2=\"94%\" y1=\"20px\" y2=\"48px\" /><svg width=\"3.63636%\" x=\"95.2727%\" y=\"48px\"><defs /><svg width=\"100%\" x=\"0\" y=\"0px\"><defs /><text text-anchor=\"middle\" x=\"50%\" y=\"16px\">language</text></svg><svg width=\"100%\" x=\"0%\" y=\"48px\"><defs /><svg width=\"100%\" x=\"0\" y=\"0px\"><defs /><text text-anchor=\"middle\" x=\"50%\" y=\"16px\">NN</text></svg></svg><line stroke=\"black\" x1=\"50%\" x2=\"50%\" y1=\"20px\" y2=\"48px\" /></svg><line stroke=\"black\" x1=\"50%\" x2=\"97.0909%\" y1=\"20px\" y2=\"48px\" /><svg width=\"1.09091%\" x=\"98.9091%\" y=\"48px\"><defs /><svg width=\"100%\" x=\"0\" y=\"0px\"><defs /><text text-anchor=\"middle\" x=\"50%\" y=\"16px\">.</text></svg><svg width=\"100%\" x=\"0%\" y=\"48px\"><defs /><svg width=\"100%\" x=\"0\" y=\"0px\"><defs /><text text-anchor=\"middle\" x=\"50%\" y=\"16px\">.</text></svg></svg><line stroke=\"black\" x1=\"50%\" x2=\"50%\" y1=\"20px\" y2=\"48px\" /></svg><line stroke=\"black\" x1=\"50%\" x2=\"99.4545%\" y1=\"20px\" y2=\"48px\" /></svg>",
            "text/plain": "Tree('S', [('Unlocking', 'VBG'), ('Potential', 'JJ'), ('Strings', 'NNS'), (':', ':'), ('An', 'DT'), ('Exploration', 'NNP'), ('NLP', 'NNP'), ('Natural', 'NNP'), ('Language', 'NNP'), ('Processing', 'NNP'), ('(', '('), Tree('ORGANIZATION', [('NLP', 'NNP')]), (')', ')'), ('stands', 'VBZ'), ('intersection', 'JJ'), ('linguistics', 'NNS'), (',', ','), ('artificial', 'JJ'), ('intelligence', 'NN'), (',', ','), ('computer', 'NN'), ('science', 'NN'), (',', ','), ('enabling', 'VBG'), ('machines', 'NNS'), ('understand', 'RB'), (',', ','), ('interpret', 'NN'), (',', ','), ('generate', 'VBP'), ('human', 'JJ'), ('language', 'NN'), ('.', '.')])"
          },
          "execution_count": 26,
          "metadata": {},
          "output_type": "execute_result"
        }
      ],
      "source": [
        "nltk.ne_chunk(pos_words[0])"
      ]
    },
    {
      "cell_type": "code",
      "execution_count": null,
      "metadata": {
        "colab": {
          "base_uri": "https://localhost:8080/",
          "height": 161
        },
        "id": "PEUNfQEYwIAX",
        "outputId": "f6fc4dae-fa52-4d27-9e74-6269c739da4b"
      },
      "outputs": [
        {
          "data": {
            "image/svg+xml": "<svg baseProfile=\"full\" height=\"120px\" preserveAspectRatio=\"xMidYMid meet\" style=\"font-family: times, serif; font-weight: normal; font-style: normal; font-size: 16px\" version=\"1.1\" viewBox=\"0,0,752.0,120.0\" width=\"752px\" xmlns=\"http://www.w3.org/2000/svg\" xmlns:ev=\"http://www.w3.org/2001/xml-events\" xmlns:xlink=\"http://www.w3.org/1999/xlink\"><defs /><svg width=\"100%\" x=\"0\" y=\"0px\"><defs /><text text-anchor=\"middle\" x=\"50%\" y=\"16px\">S</text></svg><svg width=\"4.25532%\" x=\"0%\" y=\"48px\"><defs /><svg width=\"100%\" x=\"0\" y=\"0px\"><defs /><text text-anchor=\"middle\" x=\"50%\" y=\"16px\">At</text></svg><svg width=\"100%\" x=\"0%\" y=\"48px\"><defs /><svg width=\"100%\" x=\"0\" y=\"0px\"><defs /><text text-anchor=\"middle\" x=\"50%\" y=\"16px\">IN</text></svg></svg><line stroke=\"black\" x1=\"50%\" x2=\"50%\" y1=\"20px\" y2=\"48px\" /></svg><line stroke=\"black\" x1=\"50%\" x2=\"2.12766%\" y1=\"20px\" y2=\"48px\" /><svg width=\"6.38298%\" x=\"4.25532%\" y=\"48px\"><defs /><svg width=\"100%\" x=\"0\" y=\"0px\"><defs /><text text-anchor=\"middle\" x=\"50%\" y=\"16px\">core</text></svg><svg width=\"100%\" x=\"0%\" y=\"48px\"><defs /><svg width=\"100%\" x=\"0\" y=\"0px\"><defs /><text text-anchor=\"middle\" x=\"50%\" y=\"16px\">NN</text></svg></svg><line stroke=\"black\" x1=\"50%\" x2=\"50%\" y1=\"20px\" y2=\"48px\" /></svg><line stroke=\"black\" x1=\"50%\" x2=\"7.44681%\" y1=\"20px\" y2=\"48px\" /><svg width=\"6.38298%\" x=\"10.6383%\" y=\"48px\"><defs /><svg width=\"100%\" x=\"0\" y=\"0px\"><defs /><text text-anchor=\"middle\" x=\"50%\" y=\"16px\">lies</text></svg><svg width=\"100%\" x=\"0%\" y=\"48px\"><defs /><svg width=\"100%\" x=\"0\" y=\"0px\"><defs /><text text-anchor=\"middle\" x=\"50%\" y=\"16px\">NNS</text></svg></svg><line stroke=\"black\" x1=\"50%\" x2=\"50%\" y1=\"20px\" y2=\"48px\" /></svg><line stroke=\"black\" x1=\"50%\" x2=\"13.8298%\" y1=\"20px\" y2=\"48px\" /><svg width=\"8.51064%\" x=\"17.0213%\" y=\"48px\"><defs /><svg width=\"100%\" x=\"0\" y=\"0px\"><defs /><text text-anchor=\"middle\" x=\"50%\" y=\"16px\">humble</text></svg><svg width=\"100%\" x=\"0%\" y=\"48px\"><defs /><svg width=\"100%\" x=\"0\" y=\"0px\"><defs /><text text-anchor=\"middle\" x=\"50%\" y=\"16px\">JJ</text></svg></svg><line stroke=\"black\" x1=\"50%\" x2=\"50%\" y1=\"20px\" y2=\"48px\" /></svg><line stroke=\"black\" x1=\"50%\" x2=\"21.2766%\" y1=\"20px\" y2=\"48px\" /><svg width=\"10.6383%\" x=\"25.5319%\" y=\"48px\"><defs /><svg width=\"100%\" x=\"0\" y=\"0px\"><defs /><text text-anchor=\"middle\" x=\"50%\" y=\"16px\">string—a</text></svg><svg width=\"100%\" x=\"0%\" y=\"48px\"><defs /><svg width=\"100%\" x=\"0\" y=\"0px\"><defs /><text text-anchor=\"middle\" x=\"50%\" y=\"16px\">JJ</text></svg></svg><line stroke=\"black\" x1=\"50%\" x2=\"50%\" y1=\"20px\" y2=\"48px\" /></svg><line stroke=\"black\" x1=\"50%\" x2=\"30.8511%\" y1=\"20px\" y2=\"48px\" /><svg width=\"10.6383%\" x=\"36.1702%\" y=\"48px\"><defs /><svg width=\"100%\" x=\"0\" y=\"0px\"><defs /><text text-anchor=\"middle\" x=\"50%\" y=\"16px\">sequence</text></svg><svg width=\"100%\" x=\"0%\" y=\"48px\"><defs /><svg width=\"100%\" x=\"0\" y=\"0px\"><defs /><text text-anchor=\"middle\" x=\"50%\" y=\"16px\">NN</text></svg></svg><line stroke=\"black\" x1=\"50%\" x2=\"50%\" y1=\"20px\" y2=\"48px\" /></svg><line stroke=\"black\" x1=\"50%\" x2=\"41.4894%\" y1=\"20px\" y2=\"48px\" /><svg width=\"12.766%\" x=\"46.8085%\" y=\"48px\"><defs /><svg width=\"100%\" x=\"0\" y=\"0px\"><defs /><text text-anchor=\"middle\" x=\"50%\" y=\"16px\">characters</text></svg><svg width=\"100%\" x=\"0%\" y=\"48px\"><defs /><svg width=\"100%\" x=\"0\" y=\"0px\"><defs /><text text-anchor=\"middle\" x=\"50%\" y=\"16px\">NNS</text></svg></svg><line stroke=\"black\" x1=\"50%\" x2=\"50%\" y1=\"20px\" y2=\"48px\" /></svg><line stroke=\"black\" x1=\"50%\" x2=\"53.1915%\" y1=\"20px\" y2=\"48px\" /><svg width=\"8.51064%\" x=\"59.5745%\" y=\"48px\"><defs /><svg width=\"100%\" x=\"0\" y=\"0px\"><defs /><text text-anchor=\"middle\" x=\"50%\" y=\"16px\">serves</text></svg><svg width=\"100%\" x=\"0%\" y=\"48px\"><defs /><svg width=\"100%\" x=\"0\" y=\"0px\"><defs /><text text-anchor=\"middle\" x=\"50%\" y=\"16px\">VBZ</text></svg></svg><line stroke=\"black\" x1=\"50%\" x2=\"50%\" y1=\"20px\" y2=\"48px\" /></svg><line stroke=\"black\" x1=\"50%\" x2=\"63.8298%\" y1=\"20px\" y2=\"48px\" /><svg width=\"12.766%\" x=\"68.0851%\" y=\"48px\"><defs /><svg width=\"100%\" x=\"0\" y=\"0px\"><defs /><text text-anchor=\"middle\" x=\"50%\" y=\"16px\">foundation</text></svg><svg width=\"100%\" x=\"0%\" y=\"48px\"><defs /><svg width=\"100%\" x=\"0\" y=\"0px\"><defs /><text text-anchor=\"middle\" x=\"50%\" y=\"16px\">VBP</text></svg></svg><line stroke=\"black\" x1=\"50%\" x2=\"50%\" y1=\"20px\" y2=\"48px\" /></svg><line stroke=\"black\" x1=\"50%\" x2=\"74.4681%\" y1=\"20px\" y2=\"48px\" /><svg width=\"9.57447%\" x=\"80.8511%\" y=\"48px\"><defs /><svg width=\"100%\" x=\"0\" y=\"0px\"><defs /><text text-anchor=\"middle\" x=\"50%\" y=\"16px\">textual</text></svg><svg width=\"100%\" x=\"0%\" y=\"48px\"><defs /><svg width=\"100%\" x=\"0\" y=\"0px\"><defs /><text text-anchor=\"middle\" x=\"50%\" y=\"16px\">JJ</text></svg></svg><line stroke=\"black\" x1=\"50%\" x2=\"50%\" y1=\"20px\" y2=\"48px\" /></svg><line stroke=\"black\" x1=\"50%\" x2=\"85.6383%\" y1=\"20px\" y2=\"48px\" /><svg width=\"6.38298%\" x=\"90.4255%\" y=\"48px\"><defs /><svg width=\"100%\" x=\"0\" y=\"0px\"><defs /><text text-anchor=\"middle\" x=\"50%\" y=\"16px\">data</text></svg><svg width=\"100%\" x=\"0%\" y=\"48px\"><defs /><svg width=\"100%\" x=\"0\" y=\"0px\"><defs /><text text-anchor=\"middle\" x=\"50%\" y=\"16px\">NNS</text></svg></svg><line stroke=\"black\" x1=\"50%\" x2=\"50%\" y1=\"20px\" y2=\"48px\" /></svg><line stroke=\"black\" x1=\"50%\" x2=\"93.617%\" y1=\"20px\" y2=\"48px\" /><svg width=\"3.19149%\" x=\"96.8085%\" y=\"48px\"><defs /><svg width=\"100%\" x=\"0\" y=\"0px\"><defs /><text text-anchor=\"middle\" x=\"50%\" y=\"16px\">.</text></svg><svg width=\"100%\" x=\"0%\" y=\"48px\"><defs /><svg width=\"100%\" x=\"0\" y=\"0px\"><defs /><text text-anchor=\"middle\" x=\"50%\" y=\"16px\">.</text></svg></svg><line stroke=\"black\" x1=\"50%\" x2=\"50%\" y1=\"20px\" y2=\"48px\" /></svg><line stroke=\"black\" x1=\"50%\" x2=\"98.4043%\" y1=\"20px\" y2=\"48px\" /></svg>",
            "text/plain": "Tree('S', [('At', 'IN'), ('core', 'NN'), ('lies', 'NNS'), ('humble', 'JJ'), ('string—a', 'JJ'), ('sequence', 'NN'), ('characters', 'NNS'), ('serves', 'VBZ'), ('foundation', 'VBP'), ('textual', 'JJ'), ('data', 'NNS'), ('.', '.')])"
          },
          "execution_count": 27,
          "metadata": {},
          "output_type": "execute_result"
        }
      ],
      "source": [
        "nltk.ne_chunk(pos_words[1])"
      ]
    },
    {
      "cell_type": "code",
      "execution_count": null,
      "metadata": {
        "colab": {
          "base_uri": "https://localhost:8080/",
          "height": 161
        },
        "id": "e9SZHJWewOmg",
        "outputId": "7018b79f-21fd-47df-f95a-a55eeec6a0ab"
      },
      "outputs": [
        {
          "data": {
            "image/svg+xml": "<svg baseProfile=\"full\" height=\"120px\" preserveAspectRatio=\"xMidYMid meet\" style=\"font-family: times, serif; font-weight: normal; font-style: normal; font-size: 16px\" version=\"1.1\" viewBox=\"0,0,696.0,120.0\" width=\"696px\" xmlns=\"http://www.w3.org/2000/svg\" xmlns:ev=\"http://www.w3.org/2001/xml-events\" xmlns:xlink=\"http://www.w3.org/1999/xlink\"><defs /><svg width=\"100%\" x=\"0\" y=\"0px\"><defs /><text text-anchor=\"middle\" x=\"50%\" y=\"16px\">S</text></svg><svg width=\"6.89655%\" x=\"0%\" y=\"48px\"><defs /><svg width=\"100%\" x=\"0\" y=\"0px\"><defs /><text text-anchor=\"middle\" x=\"50%\" y=\"16px\">This</text></svg><svg width=\"100%\" x=\"0%\" y=\"48px\"><defs /><svg width=\"100%\" x=\"0\" y=\"0px\"><defs /><text text-anchor=\"middle\" x=\"50%\" y=\"16px\">DT</text></svg></svg><line stroke=\"black\" x1=\"50%\" x2=\"50%\" y1=\"20px\" y2=\"48px\" /></svg><line stroke=\"black\" x1=\"50%\" x2=\"3.44828%\" y1=\"20px\" y2=\"48px\" /><svg width=\"8.04598%\" x=\"6.89655%\" y=\"48px\"><defs /><svg width=\"100%\" x=\"0\" y=\"0px\"><defs /><text text-anchor=\"middle\" x=\"50%\" y=\"16px\">essay</text></svg><svg width=\"100%\" x=\"0%\" y=\"48px\"><defs /><svg width=\"100%\" x=\"0\" y=\"0px\"><defs /><text text-anchor=\"middle\" x=\"50%\" y=\"16px\">NN</text></svg></svg><line stroke=\"black\" x1=\"50%\" x2=\"50%\" y1=\"20px\" y2=\"48px\" /></svg><line stroke=\"black\" x1=\"50%\" x2=\"10.9195%\" y1=\"20px\" y2=\"48px\" /><svg width=\"11.4943%\" x=\"14.9425%\" y=\"48px\"><defs /><svg width=\"100%\" x=\"0\" y=\"0px\"><defs /><text text-anchor=\"middle\" x=\"50%\" y=\"16px\">explores</text></svg><svg width=\"100%\" x=\"0%\" y=\"48px\"><defs /><svg width=\"100%\" x=\"0\" y=\"0px\"><defs /><text text-anchor=\"middle\" x=\"50%\" y=\"16px\">VBZ</text></svg></svg><line stroke=\"black\" x1=\"50%\" x2=\"50%\" y1=\"20px\" y2=\"48px\" /></svg><line stroke=\"black\" x1=\"50%\" x2=\"20.6897%\" y1=\"20px\" y2=\"48px\" /><svg width=\"6.89655%\" x=\"26.4368%\" y=\"48px\"><defs /><svg width=\"100%\" x=\"0\" y=\"0px\"><defs /><text text-anchor=\"middle\" x=\"50%\" y=\"16px\">role</text></svg><svg width=\"100%\" x=\"0%\" y=\"48px\"><defs /><svg width=\"100%\" x=\"0\" y=\"0px\"><defs /><text text-anchor=\"middle\" x=\"50%\" y=\"16px\">NN</text></svg></svg><line stroke=\"black\" x1=\"50%\" x2=\"50%\" y1=\"20px\" y2=\"48px\" /></svg><line stroke=\"black\" x1=\"50%\" x2=\"29.8851%\" y1=\"20px\" y2=\"48px\" /><svg width=\"10.3448%\" x=\"33.3333%\" y=\"48px\"><defs /><svg width=\"100%\" x=\"0\" y=\"0px\"><defs /><text text-anchor=\"middle\" x=\"50%\" y=\"16px\">strings</text></svg><svg width=\"100%\" x=\"0%\" y=\"48px\"><defs /><svg width=\"100%\" x=\"0\" y=\"0px\"><defs /><text text-anchor=\"middle\" x=\"50%\" y=\"16px\">NNS</text></svg></svg><line stroke=\"black\" x1=\"50%\" x2=\"50%\" y1=\"20px\" y2=\"48px\" /></svg><line stroke=\"black\" x1=\"50%\" x2=\"38.5057%\" y1=\"20px\" y2=\"48px\" /><svg width=\"5.74713%\" x=\"43.6782%\" y=\"48px\"><defs /><svg width=\"100%\" x=\"0\" y=\"0px\"><defs /><text text-anchor=\"middle\" x=\"50%\" y=\"16px\">NLP</text></svg><svg width=\"100%\" x=\"0%\" y=\"48px\"><defs /><svg width=\"100%\" x=\"0\" y=\"0px\"><defs /><text text-anchor=\"middle\" x=\"50%\" y=\"16px\">NNP</text></svg></svg><line stroke=\"black\" x1=\"50%\" x2=\"50%\" y1=\"20px\" y2=\"48px\" /></svg><line stroke=\"black\" x1=\"50%\" x2=\"46.5517%\" y1=\"20px\" y2=\"48px\" /><svg width=\"6.89655%\" x=\"49.4253%\" y=\"48px\"><defs /><svg width=\"100%\" x=\"0\" y=\"0px\"><defs /><text text-anchor=\"middle\" x=\"50%\" y=\"16px\">pave</text></svg><svg width=\"100%\" x=\"0%\" y=\"48px\"><defs /><svg width=\"100%\" x=\"0\" y=\"0px\"><defs /><text text-anchor=\"middle\" x=\"50%\" y=\"16px\">VBP</text></svg></svg><line stroke=\"black\" x1=\"50%\" x2=\"50%\" y1=\"20px\" y2=\"48px\" /></svg><line stroke=\"black\" x1=\"50%\" x2=\"52.8736%\" y1=\"20px\" y2=\"48px\" /><svg width=\"5.74713%\" x=\"56.3218%\" y=\"48px\"><defs /><svg width=\"100%\" x=\"0\" y=\"0px\"><defs /><text text-anchor=\"middle\" x=\"50%\" y=\"16px\">way</text></svg><svg width=\"100%\" x=\"0%\" y=\"48px\"><defs /><svg width=\"100%\" x=\"0\" y=\"0px\"><defs /><text text-anchor=\"middle\" x=\"50%\" y=\"16px\">NN</text></svg></svg><line stroke=\"black\" x1=\"50%\" x2=\"50%\" y1=\"20px\" y2=\"48px\" /></svg><line stroke=\"black\" x1=\"50%\" x2=\"59.1954%\" y1=\"20px\" y2=\"48px\" /><svg width=\"18.3908%\" x=\"62.069%\" y=\"48px\"><defs /><svg width=\"100%\" x=\"0\" y=\"0px\"><defs /><text text-anchor=\"middle\" x=\"50%\" y=\"16px\">groundbreaking</text></svg><svg width=\"100%\" x=\"0%\" y=\"48px\"><defs /><svg width=\"100%\" x=\"0\" y=\"0px\"><defs /><text text-anchor=\"middle\" x=\"50%\" y=\"16px\">VBG</text></svg></svg><line stroke=\"black\" x1=\"50%\" x2=\"50%\" y1=\"20px\" y2=\"48px\" /></svg><line stroke=\"black\" x1=\"50%\" x2=\"71.2644%\" y1=\"20px\" y2=\"48px\" /><svg width=\"16.092%\" x=\"80.4598%\" y=\"48px\"><defs /><svg width=\"100%\" x=\"0\" y=\"0px\"><defs /><text text-anchor=\"middle\" x=\"50%\" y=\"16px\">advancements</text></svg><svg width=\"100%\" x=\"0%\" y=\"48px\"><defs /><svg width=\"100%\" x=\"0\" y=\"0px\"><defs /><text text-anchor=\"middle\" x=\"50%\" y=\"16px\">NNS</text></svg></svg><line stroke=\"black\" x1=\"50%\" x2=\"50%\" y1=\"20px\" y2=\"48px\" /></svg><line stroke=\"black\" x1=\"50%\" x2=\"88.5057%\" y1=\"20px\" y2=\"48px\" /><svg width=\"3.44828%\" x=\"96.5517%\" y=\"48px\"><defs /><svg width=\"100%\" x=\"0\" y=\"0px\"><defs /><text text-anchor=\"middle\" x=\"50%\" y=\"16px\">.</text></svg><svg width=\"100%\" x=\"0%\" y=\"48px\"><defs /><svg width=\"100%\" x=\"0\" y=\"0px\"><defs /><text text-anchor=\"middle\" x=\"50%\" y=\"16px\">.</text></svg></svg><line stroke=\"black\" x1=\"50%\" x2=\"50%\" y1=\"20px\" y2=\"48px\" /></svg><line stroke=\"black\" x1=\"50%\" x2=\"98.2759%\" y1=\"20px\" y2=\"48px\" /></svg>",
            "text/plain": "Tree('S', [('This', 'DT'), ('essay', 'NN'), ('explores', 'VBZ'), ('role', 'NN'), ('strings', 'NNS'), ('NLP', 'NNP'), ('pave', 'VBP'), ('way', 'NN'), ('groundbreaking', 'VBG'), ('advancements', 'NNS'), ('.', '.')])"
          },
          "execution_count": 28,
          "metadata": {},
          "output_type": "execute_result"
        }
      ],
      "source": [
        "nltk.ne_chunk(pos_words[2])"
      ]
    },
    {
      "cell_type": "code",
      "execution_count": null,
      "metadata": {
        "colab": {
          "base_uri": "https://localhost:8080/",
          "height": 189
        },
        "id": "fnlWmh5twSH6",
        "outputId": "c5adecac-c84e-4970-fb8b-b2beec1198c1"
      },
      "outputs": [
        {
          "data": {
            "image/svg+xml": "<svg baseProfile=\"full\" height=\"168px\" preserveAspectRatio=\"xMidYMid meet\" style=\"font-family: times, serif; font-weight: normal; font-style: normal; font-size: 16px\" version=\"1.1\" viewBox=\"0,0,560.0,168.0\" width=\"560px\" xmlns=\"http://www.w3.org/2000/svg\" xmlns:ev=\"http://www.w3.org/2001/xml-events\" xmlns:xlink=\"http://www.w3.org/1999/xlink\"><defs /><svg width=\"100%\" x=\"0\" y=\"0px\"><defs /><text text-anchor=\"middle\" x=\"50%\" y=\"16px\">S</text></svg><svg width=\"12.8571%\" x=\"0%\" y=\"48px\"><defs /><svg width=\"100%\" x=\"0\" y=\"0px\"><defs /><text text-anchor=\"middle\" x=\"50%\" y=\"16px\">Strings</text></svg><svg width=\"100%\" x=\"0%\" y=\"48px\"><defs /><svg width=\"100%\" x=\"0\" y=\"0px\"><defs /><text text-anchor=\"middle\" x=\"50%\" y=\"16px\">NNS</text></svg></svg><line stroke=\"black\" x1=\"50%\" x2=\"50%\" y1=\"20px\" y2=\"48px\" /></svg><line stroke=\"black\" x1=\"50%\" x2=\"6.42857%\" y1=\"20px\" y2=\"48px\" /><svg width=\"14.2857%\" x=\"12.8571%\" y=\"48px\"><defs /><svg width=\"100%\" x=\"0\" y=\"0px\"><defs /><text text-anchor=\"middle\" x=\"50%\" y=\"16px\">building</text></svg><svg width=\"100%\" x=\"0%\" y=\"48px\"><defs /><svg width=\"100%\" x=\"0\" y=\"0px\"><defs /><text text-anchor=\"middle\" x=\"50%\" y=\"16px\">NN</text></svg></svg><line stroke=\"black\" x1=\"50%\" x2=\"50%\" y1=\"20px\" y2=\"48px\" /></svg><line stroke=\"black\" x1=\"50%\" x2=\"20%\" y1=\"20px\" y2=\"48px\" /><svg width=\"11.4286%\" x=\"27.1429%\" y=\"48px\"><defs /><svg width=\"100%\" x=\"0\" y=\"0px\"><defs /><text text-anchor=\"middle\" x=\"50%\" y=\"16px\">blocks</text></svg><svg width=\"100%\" x=\"0%\" y=\"48px\"><defs /><svg width=\"100%\" x=\"0\" y=\"0px\"><defs /><text text-anchor=\"middle\" x=\"50%\" y=\"16px\">NNS</text></svg></svg><line stroke=\"black\" x1=\"50%\" x2=\"50%\" y1=\"20px\" y2=\"48px\" /></svg><line stroke=\"black\" x1=\"50%\" x2=\"32.8571%\" y1=\"20px\" y2=\"48px\" /><svg width=\"14.2857%\" x=\"38.5714%\" y=\"48px\"><defs /><svg width=\"100%\" x=\"0\" y=\"0px\"><defs /><text text-anchor=\"middle\" x=\"50%\" y=\"16px\">language</text></svg><svg width=\"100%\" x=\"0%\" y=\"48px\"><defs /><svg width=\"100%\" x=\"0\" y=\"0px\"><defs /><text text-anchor=\"middle\" x=\"50%\" y=\"16px\">NN</text></svg></svg><line stroke=\"black\" x1=\"50%\" x2=\"50%\" y1=\"20px\" y2=\"48px\" /></svg><line stroke=\"black\" x1=\"50%\" x2=\"45.7143%\" y1=\"20px\" y2=\"48px\" /><svg width=\"22.8571%\" x=\"52.8571%\" y=\"48px\"><defs /><svg width=\"100%\" x=\"0\" y=\"0px\"><defs /><text text-anchor=\"middle\" x=\"50%\" y=\"16px\">representation</text></svg><svg width=\"100%\" x=\"0%\" y=\"48px\"><defs /><svg width=\"100%\" x=\"0\" y=\"0px\"><defs /><text text-anchor=\"middle\" x=\"50%\" y=\"16px\">NN</text></svg></svg><line stroke=\"black\" x1=\"50%\" x2=\"50%\" y1=\"20px\" y2=\"48px\" /></svg><line stroke=\"black\" x1=\"50%\" x2=\"64.2857%\" y1=\"20px\" y2=\"48px\" /><svg width=\"20%\" x=\"75.7143%\" y=\"48px\"><defs /><svg width=\"100%\" x=\"0\" y=\"0px\"><defs /><text text-anchor=\"middle\" x=\"50%\" y=\"16px\">ORGANIZATION</text></svg><svg width=\"100%\" x=\"0%\" y=\"48px\"><defs /><svg width=\"100%\" x=\"0\" y=\"0px\"><defs /><text text-anchor=\"middle\" x=\"50%\" y=\"16px\">NLP</text></svg><svg width=\"100%\" x=\"0%\" y=\"48px\"><defs /><svg width=\"100%\" x=\"0\" y=\"0px\"><defs /><text text-anchor=\"middle\" x=\"50%\" y=\"16px\">NNP</text></svg></svg><line stroke=\"black\" x1=\"50%\" x2=\"50%\" y1=\"20px\" y2=\"48px\" /></svg><line stroke=\"black\" x1=\"50%\" x2=\"50%\" y1=\"20px\" y2=\"48px\" /></svg><line stroke=\"black\" x1=\"50%\" x2=\"85.7143%\" y1=\"20px\" y2=\"48px\" /><svg width=\"4.28571%\" x=\"95.7143%\" y=\"48px\"><defs /><svg width=\"100%\" x=\"0\" y=\"0px\"><defs /><text text-anchor=\"middle\" x=\"50%\" y=\"16px\">.</text></svg><svg width=\"100%\" x=\"0%\" y=\"48px\"><defs /><svg width=\"100%\" x=\"0\" y=\"0px\"><defs /><text text-anchor=\"middle\" x=\"50%\" y=\"16px\">.</text></svg></svg><line stroke=\"black\" x1=\"50%\" x2=\"50%\" y1=\"20px\" y2=\"48px\" /></svg><line stroke=\"black\" x1=\"50%\" x2=\"97.8571%\" y1=\"20px\" y2=\"48px\" /></svg>",
            "text/plain": "Tree('S', [('Strings', 'NNS'), ('building', 'NN'), ('blocks', 'NNS'), ('language', 'NN'), ('representation', 'NN'), Tree('ORGANIZATION', [('NLP', 'NNP')]), ('.', '.')])"
          },
          "execution_count": 29,
          "metadata": {},
          "output_type": "execute_result"
        }
      ],
      "source": [
        "nltk.ne_chunk(pos_words[3])"
      ]
    },
    {
      "cell_type": "markdown",
      "metadata": {
        "id": "K0bXS8UJzldh"
      },
      "source": [
        "# Text to vectors"
      ]
    },
    {
      "cell_type": "markdown",
      "metadata": {
        "id": "hIkme2qRzyFy"
      },
      "source": [
        "## Bag of Words, term frequency, inverse document frequency- word embeddings based on count or frequency\n",
        "##word embedding based on deep learning-word2vec(cbow or skipgram), averageword2vec(gensim)"
      ]
    },
    {
      "cell_type": "code",
      "execution_count": null,
      "metadata": {
        "colab": {
          "base_uri": "https://localhost:8080/"
        },
        "id": "U_4GpLjQE69U",
        "outputId": "863c6c85-c146-4db6-d34e-beeb6fb1d19c"
      },
      "outputs": [
        {
          "name": "stdout",
          "output_type": "stream",
          "text": "Requirement already satisfied: gensim in /usr/local/lib/python3.11/dist-packages (4.3.3)\nRequirement already satisfied: numpy<2.0,>=1.18.5 in /usr/local/lib/python3.11/dist-packages (from gensim) (1.26.4)\nRequirement already satisfied: scipy<1.14.0,>=1.7.0 in /usr/local/lib/python3.11/dist-packages (from gensim) (1.13.1)\nRequirement already satisfied: smart-open>=1.8.1 in /usr/local/lib/python3.11/dist-packages (from gensim) (7.1.0)\nRequirement already satisfied: wrapt in /usr/local/lib/python3.11/dist-packages (from smart-open>=1.8.1->gensim) (1.17.2)\n"
        }
      ],
      "source": [
        "!pip install --upgrade gensim"
      ]
    },
    {
      "cell_type": "code",
      "execution_count": null,
      "metadata": {
        "colab": {
          "base_uri": "https://localhost:8080/"
        },
        "id": "2Za_kClcFUTw",
        "outputId": "4808245d-36b1-4e79-897f-83ea62512aa3"
      },
      "outputs": [
        {
          "name": "stdout",
          "output_type": "stream",
          "text": "Found existing installation: numpy 1.26.4\nUninstalling numpy-1.26.4:\n  Successfully uninstalled numpy-1.26.4\nCollecting numpy\n  Downloading numpy-2.2.4-cp311-cp311-manylinux_2_17_x86_64.manylinux2014_x86_64.whl.metadata (62 kB)\n\u001b[2K     \u001b[90m━━━━━━━━━━━━━━━━━━━━━━━━━━━━━━━━━━━━━━━━\u001b[0m \u001b[32m62.0/62.0 kB\u001b[0m \u001b[31m3.5 MB/s\u001b[0m eta \u001b[36m0:00:00\u001b[0m\n\u001b[?25hDownloading numpy-2.2.4-cp311-cp311-manylinux_2_17_x86_64.manylinux2014_x86_64.whl (16.4 MB)\n\u001b[2K   \u001b[90m━━━━━━━━━━━━━━━━━━━━━━━━━━━━━━━━━━━━━━━━\u001b[0m \u001b[32m16.4/16.4 MB\u001b[0m \u001b[31m162.9 MB/s\u001b[0m eta \u001b[36m0:00:00\u001b[0m\n\u001b[?25hInstalling collected packages: numpy\n\u001b[31mERROR: pip's dependency resolver does not currently take into account all the packages that are installed. This behaviour is the source of the following dependency conflicts.\ngensim 4.3.3 requires numpy<2.0,>=1.18.5, but you have numpy 2.2.4 which is incompatible.\nnumba 0.60.0 requires numpy<2.1,>=1.22, but you have numpy 2.2.4 which is incompatible.\ntensorflow 2.18.0 requires numpy<2.1.0,>=1.26.0, but you have numpy 2.2.4 which is incompatible.\u001b[0m\u001b[31m\n\u001b[0mSuccessfully installed numpy-2.2.4\n"
        }
      ],
      "source": [
        "!pip uninstall numpy -y\n",
        "!pip install --no-cache-dir numpy==1.26.0\n"
      ]
    },
    {
      "cell_type": "code",
      "execution_count": null,
      "metadata": {
        "colab": {
          "background_save": true,
          "base_uri": "https://localhost:8080/"
        },
        "id": "6S199EN4CnL-",
        "outputId": "7bf75df4-3095-4019-c309-1b4798c60da7"
      },
      "outputs": [
        {
          "name": "stdout",
          "output_type": "stream",
          "text": "[==================================================] 100.0% 1662.8/1662.8MB downloaded\n"
        },
        {
          "data": {
            "text/plain": "array([ 1.25976562e-01,  2.97851562e-02,  8.60595703e-03,  1.39648438e-01,\n       -2.56347656e-02, -3.61328125e-02,  1.11816406e-01, -1.98242188e-01,\n        5.12695312e-02,  3.63281250e-01, -2.42187500e-01, -3.02734375e-01,\n       -1.77734375e-01, -2.49023438e-02, -1.67968750e-01, -1.69921875e-01,\n        3.46679688e-02,  5.21850586e-03,  4.63867188e-02,  1.28906250e-01,\n        1.36718750e-01,  1.12792969e-01,  5.95703125e-02,  1.36718750e-01,\n        1.01074219e-01, -1.76757812e-01, -2.51953125e-01,  5.98144531e-02,\n        3.41796875e-01, -3.11279297e-02,  1.04492188e-01,  6.17675781e-02,\n        1.24511719e-01,  4.00390625e-01, -3.22265625e-01,  8.39843750e-02,\n        3.90625000e-02,  5.85937500e-03,  7.03125000e-02,  1.72851562e-01,\n        1.38671875e-01, -2.31445312e-01,  2.83203125e-01,  1.42578125e-01,\n        3.41796875e-01, -2.39257812e-02, -1.09863281e-01,  3.32031250e-02,\n       -5.46875000e-02,  1.53198242e-02, -1.62109375e-01,  1.58203125e-01,\n       -2.59765625e-01,  2.01416016e-02, -1.63085938e-01,  1.35803223e-03,\n       -1.44531250e-01, -5.68847656e-02,  4.29687500e-02, -2.46582031e-02,\n        1.85546875e-01,  4.47265625e-01,  9.58251953e-03,  1.31835938e-01,\n        9.86328125e-02, -1.85546875e-01, -1.00097656e-01, -1.33789062e-01,\n       -1.25000000e-01,  2.83203125e-01,  1.23046875e-01,  5.32226562e-02,\n       -1.77734375e-01,  8.59375000e-02, -2.18505859e-02,  2.05078125e-02,\n       -1.39648438e-01,  2.51464844e-02,  1.38671875e-01, -1.05468750e-01,\n        1.38671875e-01,  8.88671875e-02, -7.51953125e-02, -2.13623047e-02,\n        1.72851562e-01,  4.63867188e-02, -2.65625000e-01,  8.91113281e-03,\n        1.49414062e-01,  3.78417969e-02,  2.38281250e-01, -1.24511719e-01,\n       -2.17773438e-01, -1.81640625e-01,  2.97851562e-02,  5.71289062e-02,\n       -2.89306641e-02,  1.24511719e-02,  9.66796875e-02, -2.31445312e-01,\n        5.81054688e-02,  6.68945312e-02,  7.08007812e-02, -3.08593750e-01,\n       -2.14843750e-01,  1.45507812e-01, -4.27734375e-01, -9.39941406e-03,\n        1.54296875e-01, -7.66601562e-02,  2.89062500e-01,  2.77343750e-01,\n       -4.86373901e-04, -1.36718750e-01,  3.24218750e-01, -2.46093750e-01,\n       -3.03649902e-03, -2.11914062e-01,  1.25000000e-01,  2.69531250e-01,\n        2.04101562e-01,  8.25195312e-02, -2.01171875e-01, -1.60156250e-01,\n       -3.78417969e-02, -1.20117188e-01,  1.15234375e-01, -4.10156250e-02,\n       -3.95507812e-02, -8.98437500e-02,  6.34765625e-03,  2.03125000e-01,\n        1.86523438e-01,  2.73437500e-01,  6.29882812e-02,  1.41601562e-01,\n       -9.81445312e-02,  1.38671875e-01,  1.82617188e-01,  1.73828125e-01,\n        1.73828125e-01, -2.37304688e-01,  1.78710938e-01,  6.34765625e-02,\n        2.36328125e-01, -2.08984375e-01,  8.74023438e-02, -1.66015625e-01,\n       -7.91015625e-02,  2.43164062e-01, -8.88671875e-02,  1.26953125e-01,\n       -2.16796875e-01, -1.73828125e-01, -3.59375000e-01, -8.25195312e-02,\n       -6.49414062e-02,  5.07812500e-02,  1.35742188e-01, -7.47070312e-02,\n       -1.64062500e-01,  1.15356445e-02,  4.45312500e-01, -2.15820312e-01,\n       -1.11328125e-01, -1.92382812e-01,  1.70898438e-01, -1.25000000e-01,\n        2.65502930e-03,  1.92382812e-01, -1.74804688e-01,  1.39648438e-01,\n        2.92968750e-01,  1.13281250e-01,  5.95703125e-02, -6.39648438e-02,\n        9.96093750e-02, -2.72216797e-02,  1.96533203e-02,  4.27246094e-02,\n       -2.46093750e-01,  6.39648438e-02, -2.25585938e-01, -1.68945312e-01,\n        2.89916992e-03,  8.20312500e-02,  3.41796875e-01,  4.32128906e-02,\n        1.32812500e-01,  1.42578125e-01,  7.61718750e-02,  5.98144531e-02,\n       -1.19140625e-01,  2.74658203e-03, -6.29882812e-02, -2.72216797e-02,\n       -4.82177734e-03, -8.20312500e-02, -2.49023438e-02, -4.00390625e-01,\n       -1.06933594e-01,  4.24804688e-02,  7.76367188e-02, -1.16699219e-01,\n        7.37304688e-02, -9.22851562e-02,  1.07910156e-01,  1.58203125e-01,\n        4.24804688e-02,  1.26953125e-01,  3.61328125e-02,  2.67578125e-01,\n       -1.01074219e-01, -3.02734375e-01, -5.76171875e-02,  5.05371094e-02,\n        5.26428223e-04, -2.07031250e-01, -1.38671875e-01, -8.97216797e-03,\n       -2.78320312e-02, -1.41601562e-01,  2.07031250e-01, -1.58203125e-01,\n        1.27929688e-01,  1.49414062e-01, -2.24609375e-02, -8.44726562e-02,\n        1.22558594e-01,  2.15820312e-01, -2.13867188e-01, -3.12500000e-01,\n       -3.73046875e-01,  4.08935547e-03,  1.07421875e-01,  1.06933594e-01,\n        7.32421875e-02,  8.97216797e-03, -3.88183594e-02, -1.29882812e-01,\n        1.49414062e-01, -2.14843750e-01, -1.83868408e-03,  9.91210938e-02,\n        1.57226562e-01, -1.14257812e-01, -2.05078125e-01,  9.91210938e-02,\n        3.69140625e-01, -1.97265625e-01,  3.54003906e-02,  1.09375000e-01,\n        1.31835938e-01,  1.66992188e-01,  2.35351562e-01,  1.04980469e-01,\n       -4.96093750e-01, -1.64062500e-01, -1.56250000e-01, -5.22460938e-02,\n        1.03027344e-01,  2.43164062e-01, -1.88476562e-01,  5.07812500e-02,\n       -9.37500000e-02, -6.68945312e-02,  2.27050781e-02,  7.61718750e-02,\n        2.89062500e-01,  3.10546875e-01, -5.37109375e-02,  2.28515625e-01,\n        2.51464844e-02,  6.78710938e-02, -1.21093750e-01, -2.15820312e-01,\n       -2.73437500e-01, -3.07617188e-02, -3.37890625e-01,  1.53320312e-01,\n        2.33398438e-01, -2.08007812e-01,  3.73046875e-01,  8.20312500e-02,\n        2.51953125e-01, -7.61718750e-02, -4.66308594e-02, -2.23388672e-02,\n        2.99072266e-02, -5.93261719e-02, -4.66918945e-03, -2.44140625e-01,\n       -2.09960938e-01, -2.87109375e-01, -4.54101562e-02, -1.77734375e-01,\n       -2.79296875e-01, -8.59375000e-02,  9.13085938e-02,  2.51953125e-01],\n      dtype=float32)"
          },
          "execution_count": 34,
          "metadata": {},
          "output_type": "execute_result"
        }
      ],
      "source": [
        "from gensim.models import Word2Vec,keyedvectors\n",
        "import gensim.downloader as api\n",
        "\n",
        "wv= api.load('word2vec-google-news-300')\n",
        "\n",
        "vec_king=wv['king']\n",
        "vec_king"
      ]
    },
    {
      "cell_type": "code",
      "execution_count": null,
      "metadata": {
        "id": "EWz03p82Euni"
      },
      "outputs": [],
      "source": [
        "!pip install --upgrade gensim"
      ]
    }
  ],
  "metadata": {
    "colab": {
      "provenance": []
    },
    "kernelspec": {
      "display_name": "Python 3",
      "name": "python3"
    },
    "language_info": {
      "name": "python"
    }
  },
  "nbformat": 4,
  "nbformat_minor": 0
}