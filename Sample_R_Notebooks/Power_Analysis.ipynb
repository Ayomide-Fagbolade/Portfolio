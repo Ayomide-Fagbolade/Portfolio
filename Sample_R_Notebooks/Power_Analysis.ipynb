{
  "nbformat": 4,
  "nbformat_minor": 0,
  "metadata": {
    "colab": {
      "provenance": []
    },
    "kernelspec": {
      "name": "ir",
      "display_name": "R"
    },
    "language_info": {
      "name": "R"
    }
  },
  "cells": [
    {
      "cell_type": "markdown",
      "source": [
        "What is Power Analysis?\n",
        "Power analysis is a statistical method used to determine the minimum sample size required for an experiment to detect a meaningful effect, given a specified significance level, statistical power, and effect size.\n",
        "\n",
        "Why is it important for experimental Design?\n",
        "It  helps deetermine the minimum sample size to get a meaningful impact\n",
        "\n",
        "What are Type I and Type II errors in the context of hypotheses testing\n",
        "1. Type I error is detecting a significant difference  that is simple due to chance\n",
        "2. Type 2 error is not detecting a significant difference when there is an actual difference\n",
        "\n",
        "How would you explain  the relationship between sample size and power to a non statistician?\n",
        "\n",
        "You want to keep a resonable power to ensure you actually get the underlying impact of your experiment, although when you increase the power , you also increase the sample size, but a nice sweet spot is a power of 80%. If your sample is too small you are running a blind experiment, but if your sample size is too large you get issues with the feasibility of  implementing your experiment"
      ],
      "metadata": {
        "id": "br1ZNpBFudri"
      }
    },
    {
      "cell_type": "code",
      "execution_count": null,
      "metadata": {
        "colab": {
          "base_uri": "https://localhost:8080/"
        },
        "id": "wc6YYwzqtz6w",
        "outputId": "3654ca73-5c72-4cc0-8f81-3280fee28b59"
      },
      "outputs": [
        {
          "output_type": "stream",
          "name": "stderr",
          "text": [
            "Installing package into ‘/usr/local/lib/R/site-library’\n",
            "(as ‘lib’ is unspecified)\n",
            "\n"
          ]
        }
      ],
      "source": [
        "# prompt: install pwr package\n",
        "\n",
        "install.packages(\"pwr\")"
      ]
    },
    {
      "cell_type": "code",
      "source": [
        "c(4,6,8)"
      ],
      "metadata": {
        "colab": {
          "base_uri": "https://localhost:8080/",
          "height": 34
        },
        "id": "KKOq3uWEyzOM",
        "outputId": "0eda90f5-15dc-4740-dea0-5e2249476856"
      },
      "execution_count": null,
      "outputs": [
        {
          "output_type": "display_data",
          "data": {
            "text/html": [
              "<style>\n",
              ".list-inline {list-style: none; margin:0; padding: 0}\n",
              ".list-inline>li {display: inline-block}\n",
              ".list-inline>li:not(:last-child)::after {content: \"\\00b7\"; padding: 0 .5ex}\n",
              "</style>\n",
              "<ol class=list-inline><li>4</li><li>6</li><li>8</li></ol>\n"
            ],
            "text/markdown": "1. 4\n2. 6\n3. 8\n\n\n",
            "text/latex": "\\begin{enumerate*}\n\\item 4\n\\item 6\n\\item 8\n\\end{enumerate*}\n",
            "text/plain": [
              "[1] 4 6 8"
            ]
          },
          "metadata": {}
        }
      ]
    },
    {
      "cell_type": "code",
      "source": [
        "# prompt: pwr.t.test(n=5, d=0.8, sig.level=0.05, type=\"two.sample\")\n",
        "\n",
        "library(pwr)\n",
        "pwr.t.test(n=5, d=0.8, sig.level=0.05, type=\"two.sample\")"
      ],
      "metadata": {
        "colab": {
          "base_uri": "https://localhost:8080/",
          "height": 191
        },
        "id": "go2YlvFZzCcz",
        "outputId": "66478c47-389b-4ef0-aef5-f817ccfbb607"
      },
      "execution_count": null,
      "outputs": [
        {
          "output_type": "display_data",
          "data": {
            "text/plain": [
              "\n",
              "     Two-sample t test power calculation \n",
              "\n",
              "              n = 5\n",
              "              d = 0.8\n",
              "      sig.level = 0.05\n",
              "          power = 0.2007395\n",
              "    alternative = two.sided\n",
              "\n",
              "NOTE: n is number in *each* group\n"
            ]
          },
          "metadata": {}
        }
      ]
    },
    {
      "cell_type": "code",
      "source": [
        "pwr.t.test(n=50, d=0.8, sig.level=0.05, type=\"two.sample\")"
      ],
      "metadata": {
        "colab": {
          "base_uri": "https://localhost:8080/",
          "height": 191
        },
        "id": "FsOfPb1sx5NA",
        "outputId": "58b7ba0a-f0b8-43a0-c3f9-72c30094d485"
      },
      "execution_count": null,
      "outputs": [
        {
          "output_type": "display_data",
          "data": {
            "text/plain": [
              "\n",
              "     Two-sample t test power calculation \n",
              "\n",
              "              n = 50\n",
              "              d = 0.8\n",
              "      sig.level = 0.05\n",
              "          power = 0.9772791\n",
              "    alternative = two.sided\n",
              "\n",
              "NOTE: n is number in *each* group\n"
            ]
          },
          "metadata": {}
        }
      ]
    },
    {
      "cell_type": "code",
      "source": [
        "# prompt: generate a graph to show the ranges of power when sample size changes from  5 to 100 in pwr.t.test(n=50, d=0.8, sig.level=0.05, type=\"two.sample\".) you should create a table for both values first using a for loop\n",
        "\n",
        "range = c(5:100)\n",
        "pwrs = c()\n",
        "for (x in range){\n",
        "  pwrs = c(pwrs,pwr.t.test(n=x, d=0.8, sig.level=0.05, type=\"two.sample\")$power)\n",
        "}\n",
        "df = cbind.data.frame(range, pwrs)\n",
        "\n",
        "library(ggplot2)\n",
        "ggplot(df, aes(x = range, y = pwrs)) +\n",
        "  geom_point() +\n",
        "  geom_line()"
      ],
      "metadata": {
        "colab": {
          "base_uri": "https://localhost:8080/",
          "height": 437
        },
        "id": "-g4bHzkV18RJ",
        "outputId": "caa9a8b2-8a2a-4eab-a2a9-3ba04c5f9d8e"
      },
      "execution_count": null,
      "outputs": [
        {
          "output_type": "display_data",
          "data": {
            "text/plain": [
              "plot without title"
            ],
            "image/png": "[encoded data removed]"
          },
          "metadata": {
            "image/png": {
              "width": 420,
              "height": 420
            }
          }
        }
      ]
    },
    {
      "cell_type": "code",
      "source": [
        "pwr.t2n.test(n1=100,n2=100,d=0.5, sig.level=0.05, alternative=\"two.sided\")"
      ],
      "metadata": {
        "colab": {
          "base_uri": "https://localhost:8080/",
          "height": 173
        },
        "id": "hJSorJ2l3gba",
        "outputId": "0da50860-7849-4edf-8118-e3d69ced5b13"
      },
      "execution_count": null,
      "outputs": [
        {
          "output_type": "display_data",
          "data": {
            "text/plain": [
              "\n",
              "     t test power calculation \n",
              "\n",
              "             n1 = 100\n",
              "             n2 = 100\n",
              "              d = 0.5\n",
              "      sig.level = 0.05\n",
              "          power = 0.9404272\n",
              "    alternative = two.sided\n"
            ]
          },
          "metadata": {}
        }
      ]
    },
    {
      "cell_type": "code",
      "source": [
        "pwr.t2n.test(n1=50,n2=150,d=0.5, sig.level=0.05, alternative=\"two.sided\")"
      ],
      "metadata": {
        "colab": {
          "base_uri": "https://localhost:8080/",
          "height": 173
        },
        "id": "MrkVKMJA4Ntx",
        "outputId": "1afd6de5-0f07-41b8-981b-0907d9ad762f"
      },
      "execution_count": null,
      "outputs": [
        {
          "output_type": "display_data",
          "data": {
            "text/plain": [
              "\n",
              "     t test power calculation \n",
              "\n",
              "             n1 = 50\n",
              "             n2 = 150\n",
              "              d = 0.5\n",
              "      sig.level = 0.05\n",
              "          power = 0.8614849\n",
              "    alternative = two.sided\n"
            ]
          },
          "metadata": {}
        }
      ]
    },
    {
      "cell_type": "code",
      "source": [
        "# generate a graph to show the ranges of power when n1 and n2 varies between 20 and 200 in pwr.t2n.test(n1=50,n2=150,d=0.5, sig.level=0.05, alternative=\"two.sided\") you should create a table for both values first using a for loop\n",
        "\n",
        "n_range <- seq(10, 100, by = 10)\n",
        "power_values <- data.frame(n1 = integer(), n2 = integer(), power = numeric())\n",
        "\n",
        "for (n1_val in n_range) {\n",
        "  for (n2_val in n_range) {\n",
        "    power_result <- pwr.t2n.test(n1 = n1_val, n2 = n2_val, d = 0.5, sig.level = 0.05, alternative = \"two.sided\")\n",
        "    power_values <- rbind(power_values, data.frame(n1 = n1_val, n2 = n2_val, power = power_result$power))\n",
        "  }\n",
        "}\n",
        "\n",
        "ggplot(power_values, aes(x = n1, y = n2, fill = power)) +\n",
        "  geom_tile() +\n",
        "  scale_fill_gradient(low = \"blue\", high = \"red\") +\n",
        "  labs(title = \"Power of Two-Sample T-Test for Varying Sample Sizes\",\n",
        "       x = \"Sample Size n1\",\n",
        "       y = \"Sample Size n2\",\n",
        "       fill = \"Power\")"
      ],
      "metadata": {
        "colab": {
          "base_uri": "https://localhost:8080/",
          "height": 437
        },
        "id": "DT_vMcSB4paJ",
        "outputId": "d39a72ff-f82e-4f58-f0bb-45e3310bc4d7"
      },
      "execution_count": null,
      "outputs": [
        {
          "output_type": "display_data",
          "data": {
            "text/plain": [
              "plot without title"
            ],
            "image/png": "[encoded data removed]"
          },
          "metadata": {
            "image/png": {
              "width": 420,
              "height": 420
            }
          }
        }
      ]
    },
    {
      "cell_type": "code",
      "source": [
        "# A researcher wants to detect a medium effect (d=0.5) with 80% power, what sample size is needed\n",
        "\n",
        "pwr.t.test(d=0.5, power=0.8, sig.level=0.05, type=\"two.sample\")"
      ],
      "metadata": {
        "colab": {
          "base_uri": "https://localhost:8080/",
          "height": 191
        },
        "id": "qBVYKY-053nZ",
        "outputId": "440e90b5-30d6-4b4c-ba40-4faf381d0e20"
      },
      "execution_count": null,
      "outputs": [
        {
          "output_type": "display_data",
          "data": {
            "text/plain": [
              "\n",
              "     Two-sample t test power calculation \n",
              "\n",
              "              n = 63.76561\n",
              "              d = 0.5\n",
              "      sig.level = 0.05\n",
              "          power = 0.8\n",
              "    alternative = two.sided\n",
              "\n",
              "NOTE: n is number in *each* group\n"
            ]
          },
          "metadata": {}
        }
      ]
    },
    {
      "cell_type": "code",
      "source": [
        "# A study has 30 participants per group. Whats the power to detect effec d=0.3\n",
        "\n",
        "pwr.t.test(n=30, d=0.3, sig.level=0.05, type=\"two.sample\")"
      ],
      "metadata": {
        "colab": {
          "base_uri": "https://localhost:8080/",
          "height": 191
        },
        "id": "8Mp9fGoQ6WvA",
        "outputId": "1b893335-3e66-4fe6-fa23-9e54f1355ff0"
      },
      "execution_count": null,
      "outputs": [
        {
          "output_type": "display_data",
          "data": {
            "text/plain": [
              "\n",
              "     Two-sample t test power calculation \n",
              "\n",
              "              n = 30\n",
              "              d = 0.3\n",
              "      sig.level = 0.05\n",
              "          power = 0.2078518\n",
              "    alternative = two.sided\n",
              "\n",
              "NOTE: n is number in *each* group\n"
            ]
          },
          "metadata": {}
        }
      ]
    },
    {
      "cell_type": "code",
      "source": [],
      "metadata": {
        "id": "0hhlTjjK61fV"
      },
      "execution_count": null,
      "outputs": []
    }
  ]
}